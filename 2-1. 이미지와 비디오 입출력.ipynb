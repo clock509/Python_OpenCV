{
 "cells": [
  {
   "cell_type": "markdown",
   "metadata": {},
   "source": [
    "#### 2-1-1. 이미지 읽기"
   ]
  },
  {
   "cell_type": "code",
   "execution_count": 5,
   "metadata": {},
   "outputs": [],
   "source": [
    "#practice. 이미지 파일을 화면에 표시(cv2.imread())\n",
    "import cv2\n",
    "\n",
    "img_file = '../img/girl.jpg' # 표시할 이미지 경로            ---①\n",
    "img = cv2.imread(img_file)   # 이미지를 읽어서 img 변수에 할당 ---②\n",
    "\n",
    "if img is not None:\n",
    "    cv2.imshow('IMG', img)   # 읽은 이미지를 화면에 표시      --- ③\n",
    "    cv2.waitKey()            # 키가 입력될 때 까지 대기      --- ④\n",
    "    cv2.destroyAllWindows()  # 창 모두 닫기            --- ⑤\n",
    "else:\n",
    "    print('No image file.')"
   ]
  },
  {
   "cell_type": "code",
   "execution_count": 6,
   "metadata": {},
   "outputs": [],
   "source": [
    "#practice. 위와 동일한 이미지 파일을 그레이 스케일로 화면에 표시.\n",
    "##컬러 사진을 읽기 모드를 그레이 스케일로 지정하여 회색으로 출력할 수 있음.\n",
    "##그러나 회색 사진은 읽기 모드를 컬러 스케일로 지정하여도 컬러 이미지를 출력할 순 없음.\n",
    "\n",
    "import cv2\n",
    "\n",
    "img_file = '../img/girl.jpg'\n",
    "img = cv2.imread(img_file, cv2.IMREAD_GRAYSCALE)  #그레이 스케일로 읽기\n",
    "\n",
    "if img is not None:\n",
    "    cv2.imshow('IMG', img)\n",
    "    cv2.waitKey()\n",
    "    cv2.destroyAllWindows()\n",
    "else:\n",
    "    print('No image file.')"
   ]
  },
  {
   "cell_type": "markdown",
   "metadata": {},
   "source": [
    "#### 2-1-2. 이미지 저장하기"
   ]
  },
  {
   "cell_type": "code",
   "execution_count": 7,
   "metadata": {},
   "outputs": [],
   "source": [
    "#practice. 컬러 이미지를 그레이 스케일로 저장(cv2.imwrite)\n",
    "import cv2\n",
    "\n",
    "img_file = '../img/girl.jpg'\n",
    "save_file = '../img/girl_gray.jpg'\n",
    "\n",
    "img = cv2.imread(img_file, cv2.IMREAD_GRAYSCALE)\n",
    "cv2.imshow(img_file, img)\n",
    "cv2.imwrite(save_file, img)   #파일로 저장, 포맷은 확장자에 따라 다름\n",
    "cv2.waitKey()\n",
    "cv2.destroyAllWindows()"
   ]
  },
  {
   "cell_type": "markdown",
   "metadata": {},
   "source": [
    "#### 2-1-3. 동영상 및 카메라 프레임 읽기\n",
    " - cap = cv2.VideoCapture(file_path 또는 index): 비디오 캡쳐 객체 생성자\n",
    "   * file_path: 동영상 파일 경로\n",
    "   * index: 카메라 장치 번호, 0부터 순차적으로 증가(0, 1, 2, ...)\n",
    "   * cap: VideoCapture 객체\n",
    " - ret = cap.isOpened(): 객체 초기화 확인\n",
    "   * ret: 초기화 여부(boolean type)\n",
    " - ret, img = cap.read(): 영상 프레임 읽기(ret, img로 이루어진 튜플 반환)\n",
    "   * ret: 프레임 읽기 성공 또는 실패 여부(boolean type). \n",
    "   * ret이 False인 경우는 파일이나 장치에 문제가 있거나, 파일의 끝에 도달했을 경우.\n",
    "   * img: 프레임 이미지, Numpy 배열 또는 none\n",
    " - cap.set(id, value): 프로퍼티 변경\n",
    " - cap.get(id): 프로퍼티 확인\n",
    " - cap.release(): 캡처 자원 반납\n"
   ]
  },
  {
   "cell_type": "markdown",
   "metadata": {},
   "source": [
    "#### 2-1-4. 동영상 파일 읽기"
   ]
  },
  {
   "cell_type": "code",
   "execution_count": 3,
   "metadata": {},
   "outputs": [],
   "source": [
    "#practice. 동영상 파일 재생\n",
    "import cv2\n",
    "\n",
    "video_file = \"../img/big_buck.avi\"   # 동영상 파일 경로\n",
    "\n",
    "cap = cv2.VideoCapture(video_file)   # 동영상 캡쳐 객체 생성  ---①\n",
    "if cap.isOpened():                   # 캡쳐 객체 초기화 확인(True / False)\n",
    "    while True:                      # 연속적으로 파일 프레임을 읽기 위해 cap.read()를 loop\n",
    "        ret, img = cap.read()        # 다음 프레임 읽기      --- ②\n",
    "        if ret:                      # 프레임 읽기 정상\n",
    "            cv2.imshow(video_file, img)  # 화면에 표시  --- ③\n",
    "            cv2.waitKey(25)              # 25ms 지연(40fps로 가정)   --- ④\n",
    "        else:                        # 다음 프레임 읽을 수 없을 경우.\n",
    "            break                    # 재생 완료\n",
    "else:\n",
    "    print(\"can't open video.\")       # 캡쳐 객체 초기화 실패\n",
    "cap.release()                        # 캡쳐 자원 반납\n",
    "cv2.destroyAllWindows() "
   ]
  },
  {
   "cell_type": "markdown",
   "metadata": {},
   "source": [
    "#### 2-1-5. 카메라(웹캠) 프레임 읽기"
   ]
  },
  {
   "cell_type": "code",
   "execution_count": 1,
   "metadata": {},
   "outputs": [],
   "source": [
    "#practice. 카메라 프레임 읽기\n",
    "import cv2\n",
    "\n",
    "cap = cv2.VideoCapture(0)      # 0번 카메라 장치 연결(0번, 1번, 2번, ....)(연결된 카메라가 하나 뿐이면 0번만 입력) ---①\n",
    "if cap.isOpened():             # 캡쳐 객체 연결 확인\n",
    "    while True:\n",
    "        ret, img = cap.read()  # 다음 프레임 읽기\n",
    "        if ret:\n",
    "            cv2.imshow('camera', img) # 다음 프레임 이미지 표시\n",
    "            if cv2.waitKey(1) != -1:  # 1ms 동안 키 입력 대기 ---②  #\n",
    "                break                 # 아무 키라도 입력이 있으면 중지(카메라로부터 프레임을 읽는 경우, 동영상과 달리 파일의 끝이 정해져있지 않다).\n",
    "        else:\n",
    "            print('no frame')\n",
    "            break\n",
    "else:\n",
    "    print(\"can't open camera.\")\n",
    "cap.release()                  #자원 반납\n",
    "cv2.destroyAllWindows()"
   ]
  },
  {
   "cell_type": "markdown",
   "metadata": {},
   "source": [
    "#### 2-1-6. 카메라 비디오 속성 제어\n",
    " - cv2.CAP_PROP_로 시작하는 상수\n",
    "  * cv2.CAP_PROP_FRAME_WIDTH: 프레임 폭\n",
    "  * cv2.CAP_PROP_FRAME_HEIGHT: 프레임 너비\n",
    "  * cv2.CAP_PROP_FPS: 초당 프레임 수\n",
    "  * cv2.CAP_PROP_MESC: 동영상 파일의 프레임 위치(ms)\n",
    "  * cv2.CAP_PROP_AVI_RATIO: 동영상 파일의 상대 위치(0: 시작, 1: 끝)\n",
    "  * cv2.CAP_PROP_FOURCC: 동영상 파일 코덱 문자\n",
    "  * cv2.CAP_PROP_AUTOFOCUS: 카메라 자동 초점 조절\n",
    "  * cv2.CAP_PROP_ZOOM: 카메라 줌"
   ]
  },
  {
   "cell_type": "code",
   "execution_count": 6,
   "metadata": {},
   "outputs": [
    {
     "name": "stdout",
     "output_type": "stream",
     "text": [
      "FPS: 24.000000, Delay: 41ms\n"
     ]
    }
   ],
   "source": [
    "#practice. FPS를 지정해서 동영상 재생\n",
    "import cv2\n",
    "\n",
    "video_file = \"../img/big_buck.avi\"     # 동영상 파일 경로\n",
    "\n",
    "cap = cv2.VideoCapture(video_file)     # 동영상 캡쳐 객체 생성\n",
    "if cap.isOpened():                     # 캡쳐 객체 초기화 확인\n",
    "    fps = cap.get(cv2.CAP_PROP_FPS)    # 프레임 수 구하기\n",
    "    delay = int(1000/fps)\n",
    "    print(\"FPS: %f, Delay: %dms\" %(fps, delay))\n",
    "    \n",
    "    while True:\n",
    "        ret, img = cap.read()          # 다음 프레임 읽기\n",
    "        if ret:                        # 프레임 읽기 정상\n",
    "            cv2.imshow(video_file, img) # 화면에 표시\n",
    "            cv2.waitKey(delay)          # fps에 맞게 시간 지연 #waitKey()에는 정수만 전달 가능.\n",
    "        else:\n",
    "            break                      # 다음 프레임 읽을 수 없음, 재생 완료\n",
    "else:\n",
    "    print(\"can't open video.\")         # 캡쳐 객체 초기화 실패\n",
    "cap.release()                          # 캡쳐 자원 반납\n",
    "cv2.destroyAllWindows()"
   ]
  },
  {
   "cell_type": "markdown",
   "metadata": {},
   "source": [
    "- 카메라로부터 읽은 영상이 너무 고화질인 경우 픽셀 수가 많아 연산하는데 시간이 많이 걸릴 경우.\n",
    "- 프레임의 폭, 높이를 제어해서 픽셀 수를 줄인다(cv2.CAP_PROP_FRAME_WIDTH, cv2.CAP_PROP_FRAME_HEIGHT)"
   ]
  },
  {
   "cell_type": "code",
   "execution_count": 8,
   "metadata": {},
   "outputs": [
    {
     "name": "stdout",
     "output_type": "stream",
     "text": [
      "Original width: 640, height: 480\n",
      "Resized width: 320, height: 240\n"
     ]
    }
   ],
   "source": [
    "#practice. 카메라 프레임 크기 설정\n",
    "import cv2\n",
    "\n",
    "cap = cv2.VideoCapture(0)                               # 카메라 0번 장치 연결\n",
    "width = cap.get(cv2.CAP_PROP_FRAME_WIDTH)               # 프레임 폭 값 구하기\n",
    "height = cap.get(cv2.CAP_PROP_FRAME_HEIGHT)             # 프레임 높이 값 구하기\n",
    "print(\"Original width: %d, height: %d\" %(width, height))\n",
    "\n",
    "cap.set(cv2.CAP_PROP_FRAME_WIDTH, 320)                  # 프레임 폭을 320으로 설정 \n",
    "cap.set(cv2.CAP_PROP_FRAME_HEIGHT, 240)                 # 프레임 높이를 240으로 설정\n",
    "width = cap.get(cv2.CAP_PROP_FRAME_WIDTH)               # 재지정한 프레임 폭 값 구하기\n",
    "height = cap.get(cv2.CAP_PROP_FRAME_HEIGHT)             # 재지정한 프레임 폭 값 구하기\n",
    "\n",
    "print(\"Resized width: %d, height: %d\" %(width, height) )\n",
    "if cap.isOpened():\n",
    "    while True:\n",
    "        ret, img = cap.read()\n",
    "        if ret:\n",
    "            cv2.imshow('camera', img)\n",
    "            if cv2.waitKey(1) != -1:\n",
    "                break\n",
    "        else:\n",
    "            print('no frame!')\n",
    "            break\n",
    "else:\n",
    "    print(\"can't open camera!\")\n",
    "cap.release()\n",
    "cv2.destroyAllWindows()"
   ]
  },
  {
   "cell_type": "markdown",
   "metadata": {},
   "source": [
    "#### 2-1-7. 비디오 파일 저장하기"
   ]
  },
  {
   "cell_type": "code",
   "execution_count": 12,
   "metadata": {},
   "outputs": [],
   "source": [
    "#practice. 카메라로 사진 찍기\n",
    "#VideoCapture 사용\n",
    "import cv2\n",
    "\n",
    "cap = cv2.VideoCapture(0)                             # 0번 카메라 연결\n",
    "if cap.isOpened():\n",
    "    while True:\n",
    "        ret, frame = cap.read()                       # 카메라 프레임 읽기\n",
    "        if ret:\n",
    "            cv2.imshow('camera', frame)               # 프레임 화면에 표시\n",
    "            if cv2.waitKey(1) != -1:                  # 아무 키나 누르면\n",
    "                cv2.imwrite('photo.jpg', frame)       # 프레임을 'photo.jpg'에 저장\n",
    "                break\n",
    "        else:\n",
    "            print('no frame!')\n",
    "            break\n",
    "else:\n",
    "    print('no camera!')\n",
    "cap.release()\n",
    "cv2.destroyAllWindows()"
   ]
  },
  {
   "cell_type": "markdown",
   "metadata": {},
   "source": [
    "#### VideoCapture: 하나의 프레임을 사진으로 저장\n",
    "#### VideoWriter: 여러 프레임을 동영상으로 저장\n",
    " \n",
    " - writer = cv2.VideoWriter(file_path, fourcc, fps, (width, height)): 비디오 저장 클래스 생성자 함수\n",
    "  * file_path: 비디오 파일 저장 경로\n",
    "  * fourcc: 비디오 인코딩 형식 4글자\n",
    "  * fps: 초당 프레임 수\n",
    "  * (width, height): 프레임 폭과 프레임 높이\n",
    "  * writer: 생성된 비디오 저장 객체\n",
    "  * writer.write(frame): 프레임 저장\n",
    "  * frame: 저장할 프레임(Numpy배열 형태)\n",
    "  * writer.set(id, value): 프로퍼티 변경\n",
    "  * writer.get(id): 프로퍼티 확인\n",
    "  * writer.get(id): 프로퍼티 확인\n",
    "  * ret = writer.fourcc(c1, c2, c3, c4): 인코딩 포맷 문자를 전달받아 fourcc 코드 생성\n",
    "    * c1, c2, c3, c4: 인코딩 형식 4글자, 'MJPG', 'DIVX' 등\n",
    "    * 사용할 수 있는 인코딩 형식 문자 확인: http://fourcc.org/codecs.php\n",
    "    * ret: fourcc 코드\n",
    "  * cv2.VideoWriter_fourcc(c1, c2, c3, c4): cv2.VideoWriter.fourcc()와 동일"
   ]
  },
  {
   "cell_type": "code",
   "execution_count": 16,
   "metadata": {},
   "outputs": [],
   "source": [
    "#practice. 카메라로 녹화하기\n",
    "#VideoWriter 사용\n",
    "\n",
    "import cv2\n",
    "\n",
    "cap = cv2.VideoCapture(0)                               #0번 카메라 연결\n",
    "if cap.isOpened:\n",
    "    file_path = './record.avi'                          #저장할 파일 경로 이름\n",
    "    fps = 30.0                                          #FPS, 초당 프레임 수\n",
    "    fourcc = cv2.VideoWriter_fourcc(*'DIVX')             #인코딩 포맷 문자\n",
    "    width = cap.get(cv2.CAP_PROP_FRAME_WIDTH)\n",
    "    height = cap.get(cv2.CAP_PROP_FRAME_HEIGHT)\n",
    "    size = (int(width), int(height))                    #프레임 크기\n",
    "    out = cv2.VideoWriter(file_path, fourcc, fps, size) #VideoWriter 객체 생성\n",
    "    while True:\n",
    "        ret, frame = cap.read()\n",
    "        if ret:\n",
    "            cv2.imshow('camera-recording', frame)\n",
    "            out.write(frame)                          #파일 저장\n",
    "            if cv2.waitKey(int(1000/fps)) != -1:\n",
    "                break\n",
    "        else:\n",
    "            print(\"no frame!\")\n",
    "            break\n",
    "    out.release()\n",
    "else:\n",
    "    print(\"can't open camera!\")                        #파일 담기\n",
    "cap.release()\n",
    "cv2.destroyAllWindows()"
   ]
  },
  {
   "cell_type": "code",
   "execution_count": null,
   "metadata": {},
   "outputs": [],
   "source": []
  }
 ],
 "metadata": {
  "kernelspec": {
   "display_name": "Python 3",
   "language": "python",
   "name": "python3"
  },
  "language_info": {
   "codemirror_mode": {
    "name": "ipython",
    "version": 3
   },
   "file_extension": ".py",
   "mimetype": "text/x-python",
   "name": "python",
   "nbconvert_exporter": "python",
   "pygments_lexer": "ipython3",
   "version": "3.7.3"
  }
 },
 "nbformat": 4,
 "nbformat_minor": 2
}
