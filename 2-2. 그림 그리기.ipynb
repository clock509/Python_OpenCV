{
 "cells": [
  {
   "cell_type": "markdown",
   "metadata": {},
   "source": [
    "#### 2-2-1. 직선 그리기"
   ]
  },
  {
   "cell_type": "code",
   "execution_count": 1,
   "metadata": {},
   "outputs": [
    {
     "data": {
      "text/plain": [
       "True"
      ]
     },
     "execution_count": 1,
     "metadata": {},
     "output_type": "execute_result"
    }
   ],
   "source": [
    "#practice. 그림판 역할을 하는 흰 바탕 이미지 생성\n",
    "#500 x 500 픽셀의 하얀 이미지 생성\n",
    "\n",
    "import cv2\n",
    "import numpy as np\n",
    "\n",
    "img = np.full((500, 500, 3), 255, dtype = np.uint8)\n",
    "cv2.imwrite('../img/blank_500.jpg', img)"
   ]
  },
  {
   "cell_type": "markdown",
   "metadata": {},
   "source": [
    "- cv2.line(img, start, end, color, [thickness, lineType]): 직선 그리기 함수\n",
    " * img: 그림 그릴 대상 이미지, Numpy 배열\n",
    " * start: 선 시작 지점 좌표(x, y)\n",
    " * end: 선 끝 지점 좌표(x, y)\n",
    " * color: 선 색상(blue, green, red), 0 ~ 255값\n",
    " * thickness = 1: 선 두께(픽셀 단위로 지시. 생략시 1픽셀)\n",
    " * lineType: 선 그리기 형식. 사선 또는 두꺼운 선의 끝에서 픽셀에 따른 계단 현상이 최소화되는 알고리즘 선택.\n",
    "   * cv2.LINE_4: 4연결선 알고리즘(Bresenham Algorithm)\n",
    "   * cv2.LINE_8: 8연결선 알고리즘(Bresenham Algorithm)\n",
    "   * cv2.LINE_AA: Antialiasing(계단 현상이 없는 선)연결선 알고리즘(Gaussian Filter)"
   ]
  },
  {
   "cell_type": "code",
   "execution_count": 5,
   "metadata": {},
   "outputs": [],
   "source": [
    "#practice. 직선 그리기\n",
    "import cv2\n",
    "\n",
    "img = cv2.imread('../img/blank_500.jpg')\n",
    "\n",
    "cv2.line(img, (50, 50), (150, 50), (255, 0, 0))   #파란색 1픽셀 선\n",
    "cv2.line(img, (200, 50), (300, 50), (0, 255, 0))  #초록색 1픽셀 선\n",
    "cv2.line(img, (350, 50), (450, 50), (0, 0, 255))     #빨간색 1픽셀 선\n",
    "\n",
    "#하늘색(파랑 + 초록) 10 픽셀 선\n",
    "cv2.line(img, (100, 100), (400, 100), (255, 255, 0), 10)\n",
    "#분홍색(파랑 + 빨강) 10 픽셀 선\n",
    "cv2.line(img, (100, 150), (400, 150), (255, 0, 255), 10)\n",
    "#노란색(파랑 + 초록) 10 픽셀 선\n",
    "cv2.line(img, (100, 200), (400, 200), (0, 255, 255), 10)\n",
    "#회색(파랑 + 초록 + 빨강) 10 픽셀 선\n",
    "cv2.line(img, (100, 250), (400, 250), (200, 200, 200), 10)\n",
    "#검은색 30픽셀 선\n",
    "cv2.line(img, (100, 300), (400, 300), (0, 0, 0), 30)\n",
    "\n",
    "#4연결선\n",
    "cv2.line(img, (100, 350), (400, 400), (0, 0, 225), 20, cv2.LINE_4)\n",
    "#8연결선\n",
    "cv2.line(img, (100, 400), (400, 450), (0, 0, 225), 20, cv2.LINE_8)\n",
    "#AA선\n",
    "cv2.line(img, (100, 450), (400, 500), (0, 0, 225), 20, cv2.LINE_AA)\n",
    "#이미지 전체에 대한 대각선\n",
    "cv2.line(img, (0, 0), (500, 500), (0, 0, 255))\n",
    "\n",
    "cv2.imshow('lines', img)\n",
    "cv2.waitKey(0)\n",
    "cv2.destroyAllWindows()"
   ]
  },
  {
   "cell_type": "markdown",
   "metadata": {},
   "source": [
    "#### 2-2-2. 사각형 그리기\n",
    " - cv2.rectangle(img, start, end, color, [thickness, lineType]): 사각형 그리기\n",
    "  * img: 그림 그릴 대상 이미지, Numpy 배열\n",
    "  * start: 사각형 시작 꼭짓점(x, y)\n",
    "  * end: 사각형 끝 꼭짓점(x, y)\n",
    "  * color: 색상(Blue, Green, Red)\n",
    "  * thickness: 선 두께(-1: 컬러 채우기)\n",
    "  * lineType: 선 타입, cv2.line()과 동일"
   ]
  },
  {
   "cell_type": "code",
   "execution_count": 6,
   "metadata": {},
   "outputs": [],
   "source": [
    "#practice. 사각형 그리기\n",
    "\n",
    "import cv2\n",
    "\n",
    "img = cv2.imread('../img/blank_500.jpg')\n",
    "\n",
    "cv2.rectangle(img, (50, 50), (150, 150), (255, 0, 0))       #좌상, 우하 좌표로 사각형 그리기\n",
    "\n",
    "cv2.rectangle(img, (300, 300), (100, 100), (0, 255, 0), 10) #우하, 좌상 좌표로 사각형 그리기\n",
    "\n",
    "cv2.rectangle(img, (450, 200), (200, 450), (0, 0, 255), -1) #우상, 좌하 좌표로 사각형 채워 그리기\n",
    "\n",
    "cv2.imshow('rectangle', img)\n",
    "cv2.waitKey(0)\n",
    "cv2.destroyAllWindows()"
   ]
  },
  {
   "cell_type": "markdown",
   "metadata": {},
   "source": [
    "#### 2-2-3. 다각형 그리기\n",
    " - cv2.polylines(img, points, isClosed, color, [thickness, lineType])\n",
    "  * img: 그림 그릴 대상 이미지\n",
    "  * points: 꼭짓점 좌표, Numpy 배열 리스트\n",
    "  * isClosed: 닫힌 도형 여부, True/False형\n",
    "  * color: 색상(Blue, Green Red)\n",
    "  * thickness: 선 두께\n",
    "  * lineType: 선 타입, cv2.line()과 동일"
   ]
  },
  {
   "cell_type": "code",
   "execution_count": 11,
   "metadata": {},
   "outputs": [],
   "source": [
    "#practice. 다각형 그리기\n",
    "import cv2    #좌표 표현을 위한 numpy 모듈 -- ①\n",
    "import numpy as np\n",
    "\n",
    "img = cv2.imread('../img/blank_500.jpg')\n",
    "\n",
    "#Numpy array로 좌표 생성 -- ②\n",
    "#번개 모양 선 좌표\n",
    "pts1 = np.array([[50, 50], [150, 150], [100, 140], [200, 240]], dtype = np.int32)\n",
    "#삼각형 좌표\n",
    "pts2 = np.array([[350, 50], [250, 200], [450, 200]], dtype = np.int32)\n",
    "#삼각형 좌표\n",
    "pts3 = np.array([[150, 300], [50, 450], [250, 450]], dtype = np.int32)\n",
    "#오각형 좌표\n",
    "pts4 = np.array([[350, 250], [450, 350], [400, 450], [300, 450], [250, 350]], dtype = np.int32)\n",
    "\n",
    "#다각형 그리기 -- ③\n",
    "cv2.polylines(img, [pts1], False, (255, 0, 0))      # 번개 모양 선 그리기\n",
    "cv2.polylines(img, [pts2], False, (0, 0, 0,), 10)   # 3각형 열린 선 그리기 ---④\n",
    "cv2.polylines(img, [pts3], True, (0, 0, 255), 10)   # 3각형 닫힌 도형 그리기 ---⑤\n",
    "cv2.polylines(img, [pts4], True, (0, 0, 0))         # 5각형 닫힌 도형 그리기\n",
    "\n",
    "cv2.imshow('polyline', img)\n",
    "cv2.waitKey(0)\n",
    "cv2.destroyAllWindows()"
   ]
  },
  {
   "cell_type": "markdown",
   "metadata": {},
   "source": [
    "#### 2-2-4. 원, 타원, 호 그리기\n",
    " - cv2.circle(img, center, radius, color, [thickness, lineType]): 원 그리기\n",
    "  * img: 그림 대상 이미지\n",
    "  * center: 원점 좌표(x, y)\n",
    "  * radius: 원의 반지름\n",
    "  * color: 색상(b, g, r)\n",
    "  * thickness: 선 두께(-1: 채우기)\n",
    "  * lineType: 선 타입, cv2.line()과 동일\n",
    " - cv2.ellipse(img, center, axes, angle, from, to, color, [thickness, lineType]): 호나 타원 그리기\n",
    "  * img: 그림 대상 이미지\n",
    "  * center: 원점 좌표(x, y)\n",
    "  * axes: 기준 축 길이\n",
    "  * angle: 기준 축 회전 각도\n",
    "  * from, to: 호를 그릴 시작 각도와 끝 각도"
   ]
  },
  {
   "cell_type": "code",
   "execution_count": 12,
   "metadata": {},
   "outputs": [],
   "source": [
    "#practice: 원, 타원, 호 그리기\n",
    "\n",
    "import cv2\n",
    "\n",
    "img = cv2.imread('../img/blank_500.jpg')\n",
    "\n",
    "#원점(150, 150), 반지름 100\n",
    "cv2.circle(img, (150, 150), 100, (255, 0, 0))\n",
    "#원점(300, 150), 반지름 70\n",
    "cv2.circle(img, (300, 150), 70, (0, 255, 0), 5)\n",
    "#원점(400, 150), 반지름 50, 채우기\n",
    "cv2.circle(img, (400, 150), 50, (0, 0, 255), -1)\n",
    "\n",
    "#원점(50, 300), 반지름(50), 회전 0, 0도부터 360도 그리기\n",
    "cv2.ellipse(img, (50, 300), (50, 50), 0, 0, 360, (0, 0, 255))\n",
    "#원점(150, 300), 아래 반원 그리기\n",
    "cv2.ellipse(img, (150, 300), (50, 50), 0, 0, 180, (255, 0, 0))\n",
    "#원점(200, 300), 윗 반원 그리기\n",
    "cv2.ellipse(img, (200, 300), (50, 50), 0, 181, 360, (0, 0, 255))\n",
    "\n",
    "#원점(325, 300), 반지름(75, 50) 납작한 타원 그리기\n",
    "cv2.ellipse(img, (325, 300), (75, 50), 0, 0, 360, (0, 255, 0))\n",
    "#원점(450, 300), 반지름(50, 75) 홀쭉한 타원 그리기\n",
    "cv2.ellipse(img, (450, 300), (50, 75), 0, 0, 360, (255, 0, 255))\n",
    "\n",
    "#원점(50, 425), 반지름(50, 75), 회전 15도\n",
    "cv2.ellipse(img, (50, 425), (50, 75), 15, 0, 360, (0, 0, 0))\n",
    "#원점(200, 425), 반지름(50, 75), 회전 45도\n",
    "cv2.ellipse(img, (200, 425), (50, 75), 45, 0, 360, (255, 0, 255))\n",
    "\n",
    "#원점(350, 425), 홀쭉한 타원 45도 회전 후 아랫 반원 그리기\n",
    "cv2.ellipse(img, (350, 435), (50, 75), 45, 0, 180, (0, 0, 255))\n",
    "#원점(400, 425), 홀쭉한 타원 45도 회전 후 윗 반원 그리기\n",
    "cv2.ellipse(img, (400, 425), (50, 75), 45, 181, 360, (255, 0, 0))\n",
    "\n",
    "cv2.imshow('circles', img)\n",
    "cv2.waitKey(0)\n",
    "cv2.destroyAllWindows()"
   ]
  },
  {
   "cell_type": "markdown",
   "metadata": {},
   "source": [
    "#### 2-2-5. 글씨 그리기\n",
    " - cv2.putText(img, text, point, fontFace, fontSize, color, [thickness, lineType])\n",
    "  * img: 글씨를 표시할 이미지\n",
    "  * text: 표시할 문자열\n",
    "  * point: 글씨를 표시할 좌표(좌측 하단 기준)(x, y)\n",
    "  * fontFace: 글꼴\n",
    "    * cv2.FONT_HERSHEY_PLAIN: 산세리프체 작은 글꼴\n",
    "    * cv2.FONT_HERSHEY_SIMPLEX: 산세리프체 일반 글꼴\n",
    "    * cv2.FONT_HERSHEY_DUPLEX: 산세리프체 진한 글꼴\n",
    "    * cv2.FONT_HERSHEY_COMPLEX_SMALL: 세리프체 작은 글꼴\n",
    "    * cv2.FONT_HERSHEY_COMPLEX: 세리프체 일반 글꼴\n",
    "    * cv2.FONT_HERSHEY_TRIPLEX: 세리프체 진한 글꼴\n",
    "    * cv2.FONT_HERSHEY_SCRIPT_SIMPLEX: 필기체 산세리프 글꼴\n",
    "    * cv2.FONT_HERSHEY_SCRIPT_COMPLEX: 필기체 세리프 글꼴\n",
    "    * cv2.FONT_ITALIC: 이탤릭체 플래그\n",
    "  * fontSize: 글꼴 크기\n",
    "  * color, thickness, lineType: cv2.rectangle()과 동일"
   ]
  },
  {
   "cell_type": "code",
   "execution_count": 17,
   "metadata": {},
   "outputs": [],
   "source": [
    "#practice: 손글씨 그리기\n",
    "import cv2\n",
    "\n",
    "img = cv2.imread(\"../img/blank_500.jpg\")\n",
    "\n",
    "# sans-serif small\n",
    "cv2.putText(img, \"Plain\", (50, 30), cv2.FONT_HERSHEY_PLAIN, 1, (0, 0, 0))\n",
    "# sans-serif normal\n",
    "cv2.putText(img, \"Simplex\", (50, 70), cv2.FONT_HERSHEY_SIMPLEX, 1, (0, 0, 0))\n",
    "# sans-serif bold\n",
    "cv2.putText(img, \"Duplex\", (50, 110), cv2.FONT_HERSHEY_DUPLEX, 1, (0, 0, 0))\n",
    "# sans-serif normall X2  ---①\n",
    "cv2.putText(img, \"Simplex\", (200, 110), cv2.FONT_HERSHEY_SIMPLEX, 2, (0, 0, 250))\n",
    "\n",
    "# serif small\n",
    "cv2.putText(img, \"Complex Small\", (50, 180), cv2.FONT_HERSHEY_COMPLEX_SMALL, 1, (0, 0, 0))\n",
    "# serif normal\n",
    "cv2.putText(img, \"Complex\", (50, 220), cv2.FONT_HERSHEY_COMPLEX, 1, (0, 0, 0))\n",
    "# serif bold\n",
    "cv2.putText(img, \"Triplex\", (50, 260), cv2.FONT_HERSHEY_TRIPLEX, 1, (0, 0, 0))\n",
    "# serif normal X2  ---②\n",
    "cv2.putText(img, \"Complex\", (200, 260), cv2.FONT_HERSHEY_TRIPLEX, 2, (0, 0, 255))\n",
    "\n",
    "# hand-writing sans-serif\n",
    "cv2.putText(img, \"Script Simplex\", (50, 330), cv2.FONT_HERSHEY_SCRIPT_SIMPLEX, 1, (0, 0, 0))\n",
    "# hand-writing serif\n",
    "cv2.putText(img, \"Script Complex\", (50, 370), cv2.FONT_HERSHEY_SCRIPT_SIMPLEX, 1, (0, 0, 0))\n",
    "\n",
    "# sans-serif + italic ---③\n",
    "cv2.putText(img, \"Plain Italic\", (50, 430), cv2.FONT_HERSHEY_PLAIN | cv2.FONT_ITALIC, 1, (0, 0 ,0))\n",
    "# sarif + italic\n",
    "cv2.putText(img, \"Complex Italic\", (50, 470), cv2.FONT_HERSHEY_COMPLEX | cv2.FONT_ITALIC, 1, (0, 0, 0))\n",
    "\n",
    "cv2.imshow('draw text', img)\n",
    "cv2.waitKey()\n",
    "cv2.destroyAllWindows()"
   ]
  }
 ],
 "metadata": {
  "kernelspec": {
   "display_name": "Python 3",
   "language": "python",
   "name": "python3"
  },
  "language_info": {
   "codemirror_mode": {
    "name": "ipython",
    "version": 3
   },
   "file_extension": ".py",
   "mimetype": "text/x-python",
   "name": "python",
   "nbconvert_exporter": "python",
   "pygments_lexer": "ipython3",
   "version": "3.7.3"
  }
 },
 "nbformat": 4,
 "nbformat_minor": 2
}
