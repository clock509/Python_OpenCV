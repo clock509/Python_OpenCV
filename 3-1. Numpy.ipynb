{
 "cells": [
  {
   "cell_type": "markdown",
   "metadata": {},
   "source": [
    "- Numpy 공식 웹사이트: http://www.numpy.org/\n",
    "- Numpy 개발자 참조 문서: https://docs.scipy.org/doc/numpy/genindex.html"
   ]
  },
  {
   "cell_type": "markdown",
   "metadata": {},
   "source": [
    "#### 3-1-1. 이미자와 Numpy\n",
    " - cv2.imread()가 반환하는 것이 Numpy 배열.\n",
    " - Numpy 배열에서 얻을 수 있는 정보들:\n",
    "  * ndim: 차원(축)의 수\n",
    "  * shape: 각 차원의 크기(튜플)\n",
    "  * size: 전체 요소의 개수, shape의 각 항목의 곱\n",
    "  * dtype: 요소의 데이터타입\n",
    "  * itemsize: 각 요소의 바이트 크기"
   ]
  },
  {
   "cell_type": "code",
   "execution_count": 73,
   "metadata": {},
   "outputs": [
    {
     "data": {
      "text/plain": [
       "numpy.ndarray"
      ]
     },
     "execution_count": 73,
     "metadata": {},
     "output_type": "execute_result"
    }
   ],
   "source": [
    "#Opencv로 읽어들인 500 * 500 픽셀 이미지 정보를 담은 Numpy 배열의 속성정보 출력\n",
    "import cv2\n",
    "img = cv2.imread('../img/blank_500.jpg')\n",
    "type(img)"
   ]
  },
  {
   "cell_type": "code",
   "execution_count": 3,
   "metadata": {},
   "outputs": [
    {
     "name": "stdout",
     "output_type": "stream",
     "text": [
      "3\n",
      "(500, 500, 3)\n",
      "750000\n"
     ]
    }
   ],
   "source": [
    "#ndarray = N-Dimensional Array(다차원 배열)\n",
    "#이미지 = (행 x 열 x 채널)\n",
    "#행, 열: 이미지의 크기(높이와 폭)\n",
    "#채널: 컬러: 3개의 길이(파랑, 초록, 빨강)\n",
    "#일반적으로 이미지를 읽었을 때 3차원 배열은 '높이 x 폭 x 3'의 형태이다.\n",
    "\n",
    "print(img.ndim)\n",
    "print(img.shape)\n",
    "print(img.size)"
   ]
  },
  {
   "cell_type": "code",
   "execution_count": 4,
   "metadata": {},
   "outputs": [
    {
     "name": "stdout",
     "output_type": "stream",
     "text": [
      "uint8\n",
      "1\n"
     ]
    }
   ],
   "source": [
    "#Numpy는 수 많은 데이터를 처리해야 하므로 데이터 타입을 지정하는 것이 효과적이다.\n",
    "#최대값이 255인 0 이상의 정수이면서 부호 없는 8비트 : uint8 데이터타입!!\n",
    "print(img.dtype)\n",
    "print(img.itemsize)"
   ]
  },
  {
   "cell_type": "markdown",
   "metadata": {},
   "source": [
    "#### 3-1-2. Numpy 배열 생성\n",
    " - 배열 생성방법: (1)값을 가지고 생성, (2)크기만 지정하여 생성\n",
    " - 값으로 생성: array()\n",
    " - 초기값으로 생성: empty(), zeros(), ones() full()\n",
    " - 기존 배열로 생성: empty_like(), zeros_like(), ones_like(), full_like()\n",
    " - 순차적인 값으로 생성: arange()\n",
    " - 난수로 생성: random.rand(), random.randn()"
   ]
  },
  {
   "cell_type": "markdown",
   "metadata": {},
   "source": [
    "#### 3-1-3. 값으로 생성\n",
    " - numpy.array(list, dtype): 지정한 값들로 Numpy 배열 생성\n",
    " - list: 배열 생성에 사용할 값을 갖는 파이썬 리스트 객체\n",
    " - dtype: 데이터 타입(생략하면 값에 의해 자동결정)\n",
    "  * int8, int16, int32, int64: 부호 있는 정수\n",
    "  * uint8, uint16, uint32, uint64: 부호 없는 정수\n",
    "  * float16, float32, float64, float128: 부동소수점을 갖는 실수\n",
    "  * complex64, complex128, complex256: 부동소수점을 갖는 복소수\n",
    "  * bool: boolean타입"
   ]
  },
  {
   "cell_type": "code",
   "execution_count": 5,
   "metadata": {},
   "outputs": [
    {
     "data": {
      "text/plain": [
       "array([1, 2, 3, 4])"
      ]
     },
     "execution_count": 5,
     "metadata": {},
     "output_type": "execute_result"
    }
   ],
   "source": [
    "import numpy as np\n",
    "a = np.array([1, 2, 3, 4])\n",
    "a"
   ]
  },
  {
   "cell_type": "code",
   "execution_count": 6,
   "metadata": {},
   "outputs": [
    {
     "name": "stdout",
     "output_type": "stream",
     "text": [
      "int32\n",
      "(4,)\n"
     ]
    }
   ],
   "source": [
    "print(a.dtype)  #a: 리스트 항목이 모두 정수. int64로 자동 생성됨.\n",
    "print(a.shape)"
   ]
  },
  {
   "cell_type": "code",
   "execution_count": 7,
   "metadata": {},
   "outputs": [
    {
     "data": {
      "text/plain": [
       "array([[1, 2, 3, 4],\n",
       "       [5, 6, 7, 8]])"
      ]
     },
     "execution_count": 7,
     "metadata": {},
     "output_type": "execute_result"
    }
   ],
   "source": [
    "b = np.array([[1, 2, 3, 4], [5, 6, 7, 8]])  #b: 2차원 리스트 ==> (2, 4)\n",
    "b"
   ]
  },
  {
   "cell_type": "code",
   "execution_count": 8,
   "metadata": {},
   "outputs": [
    {
     "data": {
      "text/plain": [
       "(2, 4)"
      ]
     },
     "execution_count": 8,
     "metadata": {},
     "output_type": "execute_result"
    }
   ],
   "source": [
    "b.shape"
   ]
  },
  {
   "cell_type": "code",
   "execution_count": 9,
   "metadata": {},
   "outputs": [
    {
     "data": {
      "text/plain": [
       "array([1.  , 2.  , 3.14, 4.  ])"
      ]
     },
     "execution_count": 9,
     "metadata": {},
     "output_type": "execute_result"
    }
   ],
   "source": [
    "c = np.array([1, 2, 3.14, 4])  #c: 정수 + 소수점 있는 실수 ==> float.64\n",
    "c"
   ]
  },
  {
   "cell_type": "code",
   "execution_count": 10,
   "metadata": {},
   "outputs": [
    {
     "data": {
      "text/plain": [
       "dtype('float64')"
      ]
     },
     "execution_count": 10,
     "metadata": {},
     "output_type": "execute_result"
    }
   ],
   "source": [
    "c.dtype"
   ]
  },
  {
   "cell_type": "code",
   "execution_count": 11,
   "metadata": {},
   "outputs": [
    {
     "data": {
      "text/plain": [
       "array([1., 2., 3., 4.], dtype=float32)"
      ]
     },
     "execution_count": 11,
     "metadata": {},
     "output_type": "execute_result"
    }
   ],
   "source": [
    "d = np.array([1, 2, 3, 4], dtype = np.float32)  #d: float32 타입으로 명시.\n",
    "d\n",
    "\n",
    "#데이터 타입 명시할 경우 아래와 같이도 가능!\n",
    "#a = np.uint8([1, 2, 3, 4])"
   ]
  },
  {
   "cell_type": "markdown",
   "metadata": {},
   "source": [
    "#### 3-1-4. 크기와 초기값으로 생성\n",
    " - 배열 차수, 크기, 초기값을 지정해서 생성하는 방법.\n",
    " - numpy.empty(shape [, dtype]): 초기화되지 않은 값(쓰레기값)으로 배열 생성.\n",
    "  * shape: 튜플, 배열의 각 차수의 크기 지정.\n",
    " - numpy.zeros(shape [, dtype]): 0으로 초기화된 배열 생성.\n",
    " - numpy.ones(shape [, dtype]): 1로 초기화된 배열 생성.\n",
    " - numpy.full(shape, fill_value [, dtype]): fill_value로 초기화된 배열 생성"
   ]
  },
  {
   "cell_type": "code",
   "execution_count": 15,
   "metadata": {},
   "outputs": [
    {
     "data": {
      "text/plain": [
       "array([[0., 0., 0.],\n",
       "       [0., 0., 0.]])"
      ]
     },
     "execution_count": 15,
     "metadata": {},
     "output_type": "execute_result"
    }
   ],
   "source": [
    "a = np.empty((2, 3))   #초기값이 제각각. a배열은 0에 가까운 수 6개로 이루어짐.\n",
    "a"
   ]
  },
  {
   "cell_type": "code",
   "execution_count": 16,
   "metadata": {},
   "outputs": [
    {
     "name": "stdout",
     "output_type": "stream",
     "text": [
      "float64\n"
     ]
    }
   ],
   "source": [
    "print(a.dtype)"
   ]
  },
  {
   "cell_type": "markdown",
   "metadata": {},
   "source": [
    " - ndarray.fill(value): 배열의 모든 요소를 value로 채움."
   ]
  },
  {
   "cell_type": "code",
   "execution_count": 18,
   "metadata": {},
   "outputs": [
    {
     "data": {
      "text/plain": [
       "array([[255., 255., 255.],\n",
       "       [255., 255., 255.]])"
      ]
     },
     "execution_count": 18,
     "metadata": {},
     "output_type": "execute_result"
    }
   ],
   "source": [
    "a.fill(255)\n",
    "a"
   ]
  },
  {
   "cell_type": "code",
   "execution_count": 19,
   "metadata": {},
   "outputs": [
    {
     "data": {
      "text/plain": [
       "array([[0., 0., 0.],\n",
       "       [0., 0., 0.]])"
      ]
     },
     "execution_count": 19,
     "metadata": {},
     "output_type": "execute_result"
    }
   ],
   "source": [
    "#배열을 만들고 어떤 특정한 값으로 모든 요소를 초기화할 때: zeros(), ones(), full()\n",
    "b = np.zeros((2, 3))\n",
    "b"
   ]
  },
  {
   "cell_type": "code",
   "execution_count": 20,
   "metadata": {},
   "outputs": [
    {
     "data": {
      "text/plain": [
       "dtype('float64')"
      ]
     },
     "execution_count": 20,
     "metadata": {},
     "output_type": "execute_result"
    }
   ],
   "source": [
    "b.dtype                                #데이터타입 미지정: float64형."
   ]
  },
  {
   "cell_type": "code",
   "execution_count": 23,
   "metadata": {},
   "outputs": [
    {
     "data": {
      "text/plain": [
       "array([[0, 0, 0],\n",
       "       [0, 0, 0]], dtype=int8)"
      ]
     },
     "execution_count": 23,
     "metadata": {},
     "output_type": "execute_result"
    }
   ],
   "source": [
    "c = np.zeros((2, 3), dtype = np.int8)   #데이터타입 지정.\n",
    "c"
   ]
  },
  {
   "cell_type": "code",
   "execution_count": 24,
   "metadata": {},
   "outputs": [
    {
     "data": {
      "text/plain": [
       "array([[1, 1, 1],\n",
       "       [1, 1, 1]], dtype=int16)"
      ]
     },
     "execution_count": 24,
     "metadata": {},
     "output_type": "execute_result"
    }
   ],
   "source": [
    "d = np.ones((2, 3), dtype = np.int16)\n",
    "d"
   ]
  },
  {
   "cell_type": "code",
   "execution_count": 25,
   "metadata": {},
   "outputs": [
    {
     "data": {
      "text/plain": [
       "array([[[255, 255, 255, 255],\n",
       "        [255, 255, 255, 255],\n",
       "        [255, 255, 255, 255]],\n",
       "\n",
       "       [[255, 255, 255, 255],\n",
       "        [255, 255, 255, 255],\n",
       "        [255, 255, 255, 255]]], dtype=uint8)"
      ]
     },
     "execution_count": 25,
     "metadata": {},
     "output_type": "execute_result"
    }
   ],
   "source": [
    "e = np.full((2, 3, 4), 255, dtype = np.uint8)\n",
    "e"
   ]
  },
  {
   "cell_type": "markdown",
   "metadata": {},
   "source": [
    "#### 이미지를 읽어들여 필요한 연산을 한 후에 결과 이미지를 생성할 때, 원본 이미지와 동일한 크기의 배열을 생성해야 함. 그때 아래 함수들을 자주 사용.\n",
    " - empty_like(array [, dtype]): 초기화되지 않은, array와 같은 shape와 dtype의 배열 생성\n",
    " - zeros_like(array [, dtype]): 0으로 초기화된, array와 같은 shape와 dtype의 배열 생성\n",
    " - ones_like(array [, dtype]):  1로 초기화된, array와 같은 shape와 dtype의 배열 생성\n",
    " - full_like(array, fill_value [, dtype]): fill_value로 초기화된, array와 같은 shape와 dtype의 배열 생성"
   ]
  },
  {
   "cell_type": "code",
   "execution_count": 39,
   "metadata": {},
   "outputs": [
    {
     "data": {
      "text/plain": [
       "array([[[ 52,  71,  76],\n",
       "        [ 47,  68,  70],\n",
       "        [ 39,  69,  64],\n",
       "        ...,\n",
       "        [ 24,  72,  54],\n",
       "        [ 31,  76,  59],\n",
       "        [ 35,  80,  63]],\n",
       "\n",
       "       [[ 51,  70,  75],\n",
       "        [ 47,  68,  70],\n",
       "        [ 39,  69,  64],\n",
       "        ...,\n",
       "        [ 26,  74,  56],\n",
       "        [ 32,  77,  60],\n",
       "        [ 35,  80,  63]],\n",
       "\n",
       "       [[ 51,  70,  73],\n",
       "        [ 46,  67,  68],\n",
       "        [ 39,  69,  64],\n",
       "        ...,\n",
       "        [ 28,  77,  57],\n",
       "        [ 33,  78,  61],\n",
       "        [ 35,  80,  63]],\n",
       "\n",
       "       ...,\n",
       "\n",
       "       [[ 29,  95,  66],\n",
       "        [ 38, 104,  75],\n",
       "        [ 47, 115,  84],\n",
       "        ...,\n",
       "        [218, 190, 203],\n",
       "        [221, 191, 202],\n",
       "        [222, 192, 203]],\n",
       "\n",
       "       [[ 28,  94,  65],\n",
       "        [ 37, 104,  75],\n",
       "        [ 47, 117,  86],\n",
       "        ...,\n",
       "        [218, 190, 203],\n",
       "        [222, 192, 203],\n",
       "        [224, 194, 205]],\n",
       "\n",
       "       [[ 25,  92,  63],\n",
       "        [ 36, 103,  74],\n",
       "        [ 46, 116,  85],\n",
       "        ...,\n",
       "        [223, 193, 206],\n",
       "        [226, 196, 207],\n",
       "        [229, 199, 210]]], dtype=uint8)"
      ]
     },
     "execution_count": 39,
     "metadata": {},
     "output_type": "execute_result"
    }
   ],
   "source": [
    "img = cv2.imread('../img/girl.jpg')\n",
    "img"
   ]
  },
  {
   "cell_type": "code",
   "execution_count": 40,
   "metadata": {},
   "outputs": [
    {
     "data": {
      "text/plain": [
       "(293, 406, 3)"
      ]
     },
     "execution_count": 40,
     "metadata": {},
     "output_type": "execute_result"
    }
   ],
   "source": [
    "img.shape"
   ]
  },
  {
   "cell_type": "code",
   "execution_count": 41,
   "metadata": {},
   "outputs": [],
   "source": [
    "a = np.empty_like(img)\n",
    "b = np.zeros_like(img)\n",
    "c = np.ones_like(img)\n",
    "d = np.full_like(img, 255)"
   ]
  },
  {
   "cell_type": "code",
   "execution_count": 42,
   "metadata": {},
   "outputs": [
    {
     "name": "stdout",
     "output_type": "stream",
     "text": [
      "[[[ 80   1 221]\n",
      "  [ 82  28   2]\n",
      "  [  0   0 112]\n",
      "  ...\n",
      "  [ 58  31  82]\n",
      "  [ 54  24  77]\n",
      "  [ 50  20  72]]\n",
      "\n",
      " [[ 49  19  70]\n",
      "  [ 50  21  69]\n",
      "  [ 51  24  72]\n",
      "  ...\n",
      "  [ 58  30  83]\n",
      "  [ 56  25  78]\n",
      "  [ 51  21  73]]\n",
      "\n",
      " [[ 50  20  71]\n",
      "  [ 51  23  71]\n",
      "  [ 53  26  74]\n",
      "  ...\n",
      "  [ 58  31  84]\n",
      "  [ 57  25  80]\n",
      "  [ 55  23  75]]\n",
      "\n",
      " ...\n",
      "\n",
      " [[206 218 192]\n",
      "  [205 220 192]\n",
      "  [205 220 192]\n",
      "  ...\n",
      "  [201 218 191]\n",
      "  [201 219 192]\n",
      "  [202 219 191]]\n",
      "\n",
      " [[204 219 191]\n",
      "  [204 218 190]\n",
      "  [203 218 190]\n",
      "  ...\n",
      "  [201 218 191]\n",
      "  [201 219 192]\n",
      "  [202 219 191]]\n",
      "\n",
      " [[204 219 191]\n",
      "  [204 218 190]\n",
      "  [203 218 190]\n",
      "  ...\n",
      "  [202 220 190]\n",
      "  [201 221 191]\n",
      "  [202 220 192]]]\n",
      "(293, 406, 3)\n"
     ]
    }
   ],
   "source": [
    "print(a)\n",
    "print(a.shape)"
   ]
  },
  {
   "cell_type": "code",
   "execution_count": 36,
   "metadata": {},
   "outputs": [
    {
     "name": "stdout",
     "output_type": "stream",
     "text": [
      "[[[0 0 0]\n",
      "  [0 0 0]\n",
      "  [0 0 0]\n",
      "  ...\n",
      "  [0 0 0]\n",
      "  [0 0 0]\n",
      "  [0 0 0]]\n",
      "\n",
      " [[0 0 0]\n",
      "  [0 0 0]\n",
      "  [0 0 0]\n",
      "  ...\n",
      "  [0 0 0]\n",
      "  [0 0 0]\n",
      "  [0 0 0]]\n",
      "\n",
      " [[0 0 0]\n",
      "  [0 0 0]\n",
      "  [0 0 0]\n",
      "  ...\n",
      "  [0 0 0]\n",
      "  [0 0 0]\n",
      "  [0 0 0]]\n",
      "\n",
      " ...\n",
      "\n",
      " [[0 0 0]\n",
      "  [0 0 0]\n",
      "  [0 0 0]\n",
      "  ...\n",
      "  [0 0 0]\n",
      "  [0 0 0]\n",
      "  [0 0 0]]\n",
      "\n",
      " [[0 0 0]\n",
      "  [0 0 0]\n",
      "  [0 0 0]\n",
      "  ...\n",
      "  [0 0 0]\n",
      "  [0 0 0]\n",
      "  [0 0 0]]\n",
      "\n",
      " [[0 0 0]\n",
      "  [0 0 0]\n",
      "  [0 0 0]\n",
      "  ...\n",
      "  [0 0 0]\n",
      "  [0 0 0]\n",
      "  [0 0 0]]]\n",
      "(293, 406, 3)\n"
     ]
    }
   ],
   "source": [
    "print(b)\n",
    "print(b.shape)"
   ]
  },
  {
   "cell_type": "code",
   "execution_count": 38,
   "metadata": {},
   "outputs": [
    {
     "name": "stdout",
     "output_type": "stream",
     "text": [
      "[[[1 1 1]\n",
      "  [1 1 1]\n",
      "  [1 1 1]\n",
      "  ...\n",
      "  [1 1 1]\n",
      "  [1 1 1]\n",
      "  [1 1 1]]\n",
      "\n",
      " [[1 1 1]\n",
      "  [1 1 1]\n",
      "  [1 1 1]\n",
      "  ...\n",
      "  [1 1 1]\n",
      "  [1 1 1]\n",
      "  [1 1 1]]\n",
      "\n",
      " [[1 1 1]\n",
      "  [1 1 1]\n",
      "  [1 1 1]\n",
      "  ...\n",
      "  [1 1 1]\n",
      "  [1 1 1]\n",
      "  [1 1 1]]\n",
      "\n",
      " ...\n",
      "\n",
      " [[1 1 1]\n",
      "  [1 1 1]\n",
      "  [1 1 1]\n",
      "  ...\n",
      "  [1 1 1]\n",
      "  [1 1 1]\n",
      "  [1 1 1]]\n",
      "\n",
      " [[1 1 1]\n",
      "  [1 1 1]\n",
      "  [1 1 1]\n",
      "  ...\n",
      "  [1 1 1]\n",
      "  [1 1 1]\n",
      "  [1 1 1]]\n",
      "\n",
      " [[1 1 1]\n",
      "  [1 1 1]\n",
      "  [1 1 1]\n",
      "  ...\n",
      "  [1 1 1]\n",
      "  [1 1 1]\n",
      "  [1 1 1]]]\n",
      "(293, 406, 3)\n"
     ]
    }
   ],
   "source": [
    "print(c)\n",
    "print(c.shape)"
   ]
  },
  {
   "cell_type": "code",
   "execution_count": 37,
   "metadata": {},
   "outputs": [
    {
     "name": "stdout",
     "output_type": "stream",
     "text": [
      "[[[255 255 255]\n",
      "  [255 255 255]\n",
      "  [255 255 255]\n",
      "  ...\n",
      "  [255 255 255]\n",
      "  [255 255 255]\n",
      "  [255 255 255]]\n",
      "\n",
      " [[255 255 255]\n",
      "  [255 255 255]\n",
      "  [255 255 255]\n",
      "  ...\n",
      "  [255 255 255]\n",
      "  [255 255 255]\n",
      "  [255 255 255]]\n",
      "\n",
      " [[255 255 255]\n",
      "  [255 255 255]\n",
      "  [255 255 255]\n",
      "  ...\n",
      "  [255 255 255]\n",
      "  [255 255 255]\n",
      "  [255 255 255]]\n",
      "\n",
      " ...\n",
      "\n",
      " [[255 255 255]\n",
      "  [255 255 255]\n",
      "  [255 255 255]\n",
      "  ...\n",
      "  [255 255 255]\n",
      "  [255 255 255]\n",
      "  [255 255 255]]\n",
      "\n",
      " [[255 255 255]\n",
      "  [255 255 255]\n",
      "  [255 255 255]\n",
      "  ...\n",
      "  [255 255 255]\n",
      "  [255 255 255]\n",
      "  [255 255 255]]\n",
      "\n",
      " [[255 255 255]\n",
      "  [255 255 255]\n",
      "  [255 255 255]\n",
      "  ...\n",
      "  [255 255 255]\n",
      "  [255 255 255]\n",
      "  [255 255 255]]]\n",
      "(293, 406, 3)\n"
     ]
    }
   ],
   "source": [
    "print(d)\n",
    "print(d.shape)"
   ]
  },
  {
   "cell_type": "markdown",
   "metadata": {},
   "source": [
    "#### 3-1-5. 시퀀스와 난수로 생성\n",
    " - 시퀀스(일정한 범위 내에서 순차적인 값) or 난수로 배열 생성하기.\n",
    " - numpy.arange([start =0, ], stop [, step = 1, dtype = float64]): 순차적인 값으로 생성.\n",
    "  * start: 시작값.\n",
    "  * stop: 종료값, 범위에 포함하는 수는 (stop-1)까지.\n",
    "  * step: 증가값.\n",
    "  * dtype: 데이터 타입.\n",
    " - numpy.random.rand([d0 [, d1[..., dn]]]): 0과 1 사이의 무작위 수로 생성\n",
    "  * d0, d1, ..., dn: shape, 생략하면 난수 한 개 반환\n",
    " - numpy.random.randn([d0 [, d1 [..., dn]]]): 표준정규분포(평균:0, 분산:1)를 따르는 무작위 수로 생성"
   ]
  },
  {
   "cell_type": "code",
   "execution_count": 44,
   "metadata": {},
   "outputs": [
    {
     "name": "stdout",
     "output_type": "stream",
     "text": [
      "[0 1 2 3 4]\n",
      "int32\n",
      "(5,)\n"
     ]
    }
   ],
   "source": [
    "a = np.arange(5)\n",
    "print(a)\n",
    "print(a.dtype)\n",
    "print(a.shape)"
   ]
  },
  {
   "cell_type": "code",
   "execution_count": 47,
   "metadata": {},
   "outputs": [
    {
     "name": "stdout",
     "output_type": "stream",
     "text": [
      "[0. 1. 2. 3. 4.]\n",
      "float64\n",
      "(5,)\n"
     ]
    }
   ],
   "source": [
    "#숫자 하나를 인자로 전달하면 0부터 시작하는 값을 순차적으로 갖는 1차원 배열 반환.\n",
    "b = np.arange(5.0)\n",
    "print(b)\n",
    "print(b.dtype)\n",
    "print(b.shape)"
   ]
  },
  {
   "cell_type": "code",
   "execution_count": 46,
   "metadata": {},
   "outputs": [
    {
     "data": {
      "text/plain": [
       "array([3, 5, 7])"
      ]
     },
     "execution_count": 46,
     "metadata": {},
     "output_type": "execute_result"
    }
   ],
   "source": [
    "#(시작값, 종료값, 증가폭)\n",
    "c = np.arange(3, 9, 2)\n",
    "c"
   ]
  },
  {
   "cell_type": "code",
   "execution_count": 48,
   "metadata": {},
   "outputs": [
    {
     "data": {
      "text/plain": [
       "0.4978008314425787"
      ]
     },
     "execution_count": 48,
     "metadata": {},
     "output_type": "execute_result"
    }
   ],
   "source": [
    "np.random.rand()"
   ]
  },
  {
   "cell_type": "code",
   "execution_count": 49,
   "metadata": {},
   "outputs": [
    {
     "data": {
      "text/plain": [
       "-0.3800141040456919"
      ]
     },
     "execution_count": 49,
     "metadata": {},
     "output_type": "execute_result"
    }
   ],
   "source": [
    "np.random.randn()"
   ]
  },
  {
   "cell_type": "code",
   "execution_count": 50,
   "metadata": {},
   "outputs": [
    {
     "data": {
      "text/plain": [
       "array([[0.7983824 , 0.84689384, 0.84054202],\n",
       "       [0.7601555 , 0.3041948 , 0.2212386 ]])"
      ]
     },
     "execution_count": 50,
     "metadata": {},
     "output_type": "execute_result"
    }
   ],
   "source": [
    "#난수로 이루어진 배열\n",
    "a = np.random.rand(2, 3)\n",
    "a"
   ]
  },
  {
   "cell_type": "code",
   "execution_count": 51,
   "metadata": {},
   "outputs": [
    {
     "data": {
      "text/plain": [
       "array([[-0.05624956,  1.02555201, -1.310875  ],\n",
       "       [-0.51392787, -0.92167123, -1.36214803]])"
      ]
     },
     "execution_count": 51,
     "metadata": {},
     "output_type": "execute_result"
    }
   ],
   "source": [
    "b = np.random.randn(2, 3)\n",
    "b"
   ]
  },
  {
   "cell_type": "code",
   "execution_count": 52,
   "metadata": {},
   "outputs": [],
   "source": [
    "#이미지 작업에 필요한 원하는 범위 내에서 난수를 발생하기 위해서는 브로드캐스팅, dtype변경이 필요한 경우가 많음."
   ]
  },
  {
   "cell_type": "markdown",
   "metadata": {},
   "source": [
    "#### 3-1-6. dtype 변경\n",
    " - ndarray.astype(dtype): 변경하고 싶은 dtype, 문자열 또는 dtype\n",
    " - numpy.uintXX(array): array를 부호 없는 정수(uint) 타입으로 변경해서 반환\n",
    "   * uint VS int: 0 + 양수 VS 음수까지 표현 가능\n",
    "    * 둘 다 동일한 메모리를 쓰되 uint는 그만큼 더 넓은 범위의 양수까지 지원.\n",
    "    * ex. uint: 0 ~ 4, int: -2 ~ 2 \n",
    "   * uintXX: uint8, uint16, uint32, uint64\n",
    " - numpy.intXX(array): array를 int타입으로 변경해서 반환\n",
    "   * intXX: int8, int16, int32, int64\n",
    " - numpy.floatXX(array): array를 float타입으로 변경해서 반환\n",
    " - numpy.complexXX(array): array를 복소수(complex)타입으로 변경해서 반환\n",
    "   * complexXX: complex64, complex128, complex256 "
   ]
  },
  {
   "cell_type": "code",
   "execution_count": 53,
   "metadata": {},
   "outputs": [
    {
     "data": {
      "text/plain": [
       "array([0, 1, 2, 3, 4])"
      ]
     },
     "execution_count": 53,
     "metadata": {},
     "output_type": "execute_result"
    }
   ],
   "source": [
    "a = np.arange(5)\n",
    "a"
   ]
  },
  {
   "cell_type": "code",
   "execution_count": 54,
   "metadata": {},
   "outputs": [
    {
     "data": {
      "text/plain": [
       "dtype('int32')"
      ]
     },
     "execution_count": 54,
     "metadata": {},
     "output_type": "execute_result"
    }
   ],
   "source": [
    "a.dtype"
   ]
  },
  {
   "cell_type": "code",
   "execution_count": 55,
   "metadata": {},
   "outputs": [
    {
     "data": {
      "text/plain": [
       "array([0., 1., 2., 3., 4.], dtype=float32)"
      ]
     },
     "execution_count": 55,
     "metadata": {},
     "output_type": "execute_result"
    }
   ],
   "source": [
    "#1. astype\n",
    "b = a.astype('float32')\n",
    "b"
   ]
  },
  {
   "cell_type": "code",
   "execution_count": 56,
   "metadata": {},
   "outputs": [
    {
     "data": {
      "text/plain": [
       "(array([0., 1., 2., 3., 4.]), dtype('float64'))"
      ]
     },
     "execution_count": 56,
     "metadata": {},
     "output_type": "execute_result"
    }
   ],
   "source": [
    "c = a.astype(np.float64)\n",
    "c, c.dtype"
   ]
  },
  {
   "cell_type": "code",
   "execution_count": 57,
   "metadata": {},
   "outputs": [
    {
     "data": {
      "text/plain": [
       "dtype('int32')"
      ]
     },
     "execution_count": 57,
     "metadata": {},
     "output_type": "execute_result"
    }
   ],
   "source": [
    "a.dtype"
   ]
  },
  {
   "cell_type": "code",
   "execution_count": 58,
   "metadata": {},
   "outputs": [
    {
     "data": {
      "text/plain": [
       "array([0, 1, 2, 3, 4], dtype=uint8)"
      ]
     },
     "execution_count": 58,
     "metadata": {},
     "output_type": "execute_result"
    }
   ],
   "source": [
    "#2. uintXX(array), floatXX(array), complexXX(array)\n",
    "d = np.uint8(a)    #\n",
    "d"
   ]
  },
  {
   "cell_type": "markdown",
   "metadata": {},
   "source": [
    "#### 3-1-7. 차원 변경\n",
    " - ndarray.reshape(newshape): ndarray의 shape를 newshape로 차원 변경\n",
    " - numpy.reshape(ndarray, newshape): ndarray의 shape를 newshape로 차원 변경\n",
    "   * ndarray: 원본 배열 객체\n",
    "   * newshape: 변경하고자 하는 새로운 shape(튜플)\n",
    " - numpy.ravel(ndarray): 1차원 배열로 차원 변경\n",
    "   * ndarray: 변경할 원본 배열\n",
    " - ndarray.T: 전치배열(transpose)"
   ]
  },
  {
   "cell_type": "code",
   "execution_count": 59,
   "metadata": {},
   "outputs": [
    {
     "data": {
      "text/plain": [
       "array([0, 1, 2, 3, 4, 5])"
      ]
     },
     "execution_count": 59,
     "metadata": {},
     "output_type": "execute_result"
    }
   ],
   "source": [
    "a = np.arange(6)\n",
    "a"
   ]
  },
  {
   "cell_type": "code",
   "execution_count": 60,
   "metadata": {},
   "outputs": [
    {
     "data": {
      "text/plain": [
       "array([[0, 1, 2],\n",
       "       [3, 4, 5]])"
      ]
     },
     "execution_count": 60,
     "metadata": {},
     "output_type": "execute_result"
    }
   ],
   "source": [
    "b = a.reshape(2, 3) #a를 2행 3열로 바꾸는 작업.\n",
    "b"
   ]
  },
  {
   "cell_type": "code",
   "execution_count": 61,
   "metadata": {},
   "outputs": [
    {
     "data": {
      "text/plain": [
       "array([[0, 1, 2],\n",
       "       [3, 4, 5]])"
      ]
     },
     "execution_count": 61,
     "metadata": {},
     "output_type": "execute_result"
    }
   ],
   "source": [
    "c = np.reshape(a, (2, 3)) #a를 2행 3열로 바꾸는 작업2.\n",
    "c"
   ]
  },
  {
   "cell_type": "code",
   "execution_count": 67,
   "metadata": {},
   "outputs": [
    {
     "data": {
      "text/plain": [
       "(array([[ 0,  1,  2,  3,  4,  5,  6,  7,  8,  9, 10, 11, 12, 13, 14, 15,\n",
       "         16, 17, 18, 19, 20, 21, 22, 23, 24, 25, 26, 27, 28, 29, 30, 31,\n",
       "         32, 33, 34, 35, 36, 37, 38, 39, 40, 41, 42, 43, 44, 45, 46, 47,\n",
       "         48, 49],\n",
       "        [50, 51, 52, 53, 54, 55, 56, 57, 58, 59, 60, 61, 62, 63, 64, 65,\n",
       "         66, 67, 68, 69, 70, 71, 72, 73, 74, 75, 76, 77, 78, 79, 80, 81,\n",
       "         82, 83, 84, 85, 86, 87, 88, 89, 90, 91, 92, 93, 94, 95, 96, 97,\n",
       "         98, 99]]), (2, 50))"
      ]
     },
     "execution_count": 67,
     "metadata": {},
     "output_type": "execute_result"
    }
   ],
   "source": [
    "d = np.arange(100).reshape(2, -1) #-1 : 해당 차수는 크기를 지정하지 않겠으니, 나머지 차수를 이용해 알아서 계산하라."
   ]
  },
  {
   "cell_type": "code",
   "execution_count": 69,
   "metadata": {},
   "outputs": [
    {
     "data": {
      "text/plain": [
       "(array([[ 0,  1,  2,  3,  4],\n",
       "        [ 5,  6,  7,  8,  9],\n",
       "        [10, 11, 12, 13, 14],\n",
       "        [15, 16, 17, 18, 19],\n",
       "        [20, 21, 22, 23, 24],\n",
       "        [25, 26, 27, 28, 29],\n",
       "        [30, 31, 32, 33, 34],\n",
       "        [35, 36, 37, 38, 39],\n",
       "        [40, 41, 42, 43, 44],\n",
       "        [45, 46, 47, 48, 49],\n",
       "        [50, 51, 52, 53, 54],\n",
       "        [55, 56, 57, 58, 59],\n",
       "        [60, 61, 62, 63, 64],\n",
       "        [65, 66, 67, 68, 69],\n",
       "        [70, 71, 72, 73, 74],\n",
       "        [75, 76, 77, 78, 79],\n",
       "        [80, 81, 82, 83, 84],\n",
       "        [85, 86, 87, 88, 89],\n",
       "        [90, 91, 92, 93, 94],\n",
       "        [95, 96, 97, 98, 99]]), (20, 5))"
      ]
     },
     "execution_count": 69,
     "metadata": {},
     "output_type": "execute_result"
    }
   ],
   "source": [
    "e = np.arange(100).reshape(-1, 5)\n",
    "e, e.shape"
   ]
  },
  {
   "cell_type": "code",
   "execution_count": 70,
   "metadata": {},
   "outputs": [
    {
     "data": {
      "text/plain": [
       "array([[0., 0., 0.],\n",
       "       [0., 0., 0.]])"
      ]
     },
     "execution_count": 70,
     "metadata": {},
     "output_type": "execute_result"
    }
   ],
   "source": [
    "#어떤 배열을 1차원으로 재정렬.\n",
    "f = np.zeros((2, 3))\n",
    "f"
   ]
  },
  {
   "cell_type": "code",
   "execution_count": 71,
   "metadata": {},
   "outputs": [
    {
     "data": {
      "text/plain": [
       "array([0., 0., 0., 0., 0., 0.])"
      ]
     },
     "execution_count": 71,
     "metadata": {},
     "output_type": "execute_result"
    }
   ],
   "source": [
    "f.reshape((6,))"
   ]
  },
  {
   "cell_type": "code",
   "execution_count": 72,
   "metadata": {},
   "outputs": [
    {
     "data": {
      "text/plain": [
       "array([0., 0., 0., 0., 0., 0.])"
      ]
     },
     "execution_count": 72,
     "metadata": {},
     "output_type": "execute_result"
    }
   ],
   "source": [
    "f.reshape(-1)"
   ]
  },
  {
   "cell_type": "code",
   "execution_count": 73,
   "metadata": {},
   "outputs": [
    {
     "data": {
      "text/plain": [
       "array([0., 0., 0., 0., 0., 0.])"
      ]
     },
     "execution_count": 73,
     "metadata": {},
     "output_type": "execute_result"
    }
   ],
   "source": [
    "np.ravel(f)"
   ]
  },
  {
   "cell_type": "code",
   "execution_count": 74,
   "metadata": {},
   "outputs": [
    {
     "data": {
      "text/plain": [
       "array([[0, 1, 2, 3, 4],\n",
       "       [5, 6, 7, 8, 9]])"
      ]
     },
     "execution_count": 74,
     "metadata": {},
     "output_type": "execute_result"
    }
   ],
   "source": [
    "#전치행렬\n",
    "g = np.arange(10).reshape(2, -1)\n",
    "g"
   ]
  },
  {
   "cell_type": "code",
   "execution_count": 75,
   "metadata": {},
   "outputs": [
    {
     "data": {
      "text/plain": [
       "array([[0, 5],\n",
       "       [1, 6],\n",
       "       [2, 7],\n",
       "       [3, 8],\n",
       "       [4, 9]])"
      ]
     },
     "execution_count": 75,
     "metadata": {},
     "output_type": "execute_result"
    }
   ],
   "source": [
    "g.T"
   ]
  },
  {
   "cell_type": "markdown",
   "metadata": {},
   "source": [
    "#### 3-1-8. 브로드캐스팅 연산"
   ]
  },
  {
   "cell_type": "markdown",
   "metadata": {},
   "source": [
    " - Numpy의 좋은 기능: 간단한 연산 가능"
   ]
  },
  {
   "cell_type": "code",
   "execution_count": 2,
   "metadata": {},
   "outputs": [
    {
     "name": "stdout",
     "output_type": "stream",
     "text": [
      "[1, 2, 3, 4, 5, 6, 7, 8, 9, 10]\n",
      "[ 1  2  3  4  5  6  7  8  9 10]\n"
     ]
    }
   ],
   "source": [
    "#ex. 0부터 9까지 있는 파이썬 리스트의 모든 항목을 1씩 증가시키는 방법 비교.\n",
    "\n",
    "#1. for문 사용\n",
    "list1 = list(range(10))\n",
    "\n",
    "for i in range(len(list1)):\n",
    "    list1[i] = list1[i] + 1\n",
    "\n",
    "print(list1)\n",
    "\n",
    "#2. Numpy broadcasting 연산\n",
    "import numpy as np\n",
    "a = np.arange(10)\n",
    "print(a + 1)"
   ]
  },
  {
   "cell_type": "code",
   "execution_count": 3,
   "metadata": {},
   "outputs": [
    {
     "name": "stdout",
     "output_type": "stream",
     "text": [
      "[ 5  6  7  8  9 10 11 12 13 14]\n",
      "[-2 -1  0  1  2  3  4  5  6  7]\n",
      "[ 0  2  4  6  8 10 12 14 16 18]\n",
      "[0.  0.5 1.  1.5 2.  2.5 3.  3.5 4.  4.5]\n",
      "[ 0  1  4  9 16 25 36 49 64 81]\n"
     ]
    }
   ],
   "source": [
    "#numpy 배열과 scalar값 간의 여러가지 연산\n",
    "print(a + 5)\n",
    "print(a - 2)\n",
    "print(a * 2)\n",
    "print(a / 2)\n",
    "print(a ** 2)"
   ]
  },
  {
   "cell_type": "code",
   "execution_count": 4,
   "metadata": {},
   "outputs": [
    {
     "name": "stdout",
     "output_type": "stream",
     "text": [
      "[[ 0  2  4]\n",
      " [ 6  8 10]]\n"
     ]
    }
   ],
   "source": [
    "b = np.arange(6).reshape(2, -1)\n",
    "print(b * 2)"
   ]
  },
  {
   "cell_type": "code",
   "execution_count": 5,
   "metadata": {},
   "outputs": [
    {
     "data": {
      "text/plain": [
       "array([False, False, False,  True,  True,  True,  True,  True,  True,\n",
       "        True])"
      ]
     },
     "execution_count": 5,
     "metadata": {},
     "output_type": "execute_result"
    }
   ],
   "source": [
    "#비교연산도 가능.\n",
    "#조건식 연산을 하면 True, False를 갖는 배열이 생성됨.\n",
    "a > 2"
   ]
  },
  {
   "cell_type": "code",
   "execution_count": 6,
   "metadata": {},
   "outputs": [
    {
     "name": "stdout",
     "output_type": "stream",
     "text": [
      "[10 20 30 40 50]\n",
      "[1 2 3 4 5]\n",
      "[11 22 33 44 55]\n",
      "[ 9 18 27 36 45]\n",
      "[ 10  40  90 160 250]\n",
      "[10. 10. 10. 10. 10.]\n",
      "[       10       400     27000   2560000 312500000]\n"
     ]
    }
   ],
   "source": [
    "#배열 간 연산도 가능.\n",
    "a = np.arange(10, 60, 10)\n",
    "b = np.arange(1, 6)\n",
    "print(a)\n",
    "print(b)\n",
    "print(a+b)\n",
    "print(a-b)\n",
    "print(a*b)\n",
    "print(a/b)\n",
    "print(a ** b)"
   ]
  },
  {
   "cell_type": "markdown",
   "metadata": {},
   "source": [
    " - 배열 간 연산의 제약\n",
    "  * 1)두 배열의 shape가 완벽히 같아야 한다.\n",
    "  * 2)둘 중 하나가 1차원이면서 1차원 배열의 축의 길이(=행 or 열의 개수)가 같아야 한다."
   ]
  },
  {
   "cell_type": "code",
   "execution_count": null,
   "metadata": {},
   "outputs": [],
   "source": [
    "#브로드캐스팅 불가한 경우.\n",
    "a = np.ones((2, 3))\n",
    "b = np.ones((3, 2))\n",
    "a + b"
   ]
  },
  {
   "cell_type": "code",
   "execution_count": 8,
   "metadata": {},
   "outputs": [
    {
     "name": "stdout",
     "output_type": "stream",
     "text": [
      "[[1. 1. 1.]\n",
      " [1. 1. 1.]]\n",
      "[0 1 2]\n",
      "[[1. 2. 3.]\n",
      " [1. 2. 3.]]\n"
     ]
    }
   ],
   "source": [
    "a = np.ones((2, 3))\n",
    "c = np.arange(3)   #1차원이라도 열 개수가 a와 같으면 연산 가능.\n",
    "print(a)\n",
    "print(c)\n",
    "print(a+c)"
   ]
  },
  {
   "cell_type": "code",
   "execution_count": 9,
   "metadata": {},
   "outputs": [
    {
     "ename": "ValueError",
     "evalue": "operands could not be broadcast together with shapes (2,3) (2,) ",
     "output_type": "error",
     "traceback": [
      "\u001b[1;31m---------------------------------------------------------------------------\u001b[0m",
      "\u001b[1;31mValueError\u001b[0m                                Traceback (most recent call last)",
      "\u001b[1;32m<ipython-input-9-a62e1b5c495f>\u001b[0m in \u001b[0;36m<module>\u001b[1;34m\u001b[0m\n\u001b[0;32m      1\u001b[0m \u001b[1;31m#1차원 배열이라고 해도 열의 개수가 맞지 않으면 실패한다.\u001b[0m\u001b[1;33m\u001b[0m\u001b[1;33m\u001b[0m\u001b[1;33m\u001b[0m\u001b[0m\n\u001b[0;32m      2\u001b[0m \u001b[0md\u001b[0m \u001b[1;33m=\u001b[0m \u001b[0mnp\u001b[0m\u001b[1;33m.\u001b[0m\u001b[0marange\u001b[0m\u001b[1;33m(\u001b[0m\u001b[1;36m2\u001b[0m\u001b[1;33m)\u001b[0m\u001b[1;33m\u001b[0m\u001b[1;33m\u001b[0m\u001b[0m\n\u001b[1;32m----> 3\u001b[1;33m \u001b[0ma\u001b[0m \u001b[1;33m+\u001b[0m \u001b[0md\u001b[0m\u001b[1;33m\u001b[0m\u001b[1;33m\u001b[0m\u001b[0m\n\u001b[0m",
      "\u001b[1;31mValueError\u001b[0m: operands could not be broadcast together with shapes (2,3) (2,) "
     ]
    }
   ],
   "source": [
    "#1차원 배열이라고 해도 열의 개수가 맞지 않으면 실패한다.\n",
    "d = np.arange(2)\n",
    "a + d"
   ]
  },
  {
   "cell_type": "code",
   "execution_count": 10,
   "metadata": {},
   "outputs": [
    {
     "name": "stdout",
     "output_type": "stream",
     "text": [
      "[[0]\n",
      " [1]]\n",
      "[[1. 1. 1.]\n",
      " [2. 2. 2.]]\n"
     ]
    }
   ],
   "source": [
    "#d의 모양을 바꾸면 열 단위 연산이 가능하다.\n",
    "d = np.arange(2).reshape(2, 1)\n",
    "print(d)\n",
    "print(a+d)"
   ]
  },
  {
   "cell_type": "markdown",
   "metadata": {},
   "source": [
    "#### 3-1-9.인덱싱과 슬라이싱"
   ]
  },
  {
   "cell_type": "code",
   "execution_count": 12,
   "metadata": {},
   "outputs": [
    {
     "name": "stdout",
     "output_type": "stream",
     "text": [
      "[0 1 2 3 4 5 6 7 8 9] 5\n",
      "[[ 0  1  2  3]\n",
      " [ 4  5  6  7]\n",
      " [ 8  9 10 11]] [4 5 6 7] 6\n"
     ]
    }
   ],
   "source": [
    "#인덱스로 각 요소에 접근하기.\n",
    "#배열의 차원에 따라 인덱스의 개수도 달라짐.\n",
    "\n",
    "a = np.arange(10)\n",
    "print(a, a[5])\n",
    "\n",
    "b = np.arange(12).reshape(3, 4)\n",
    "print(b, b[1], b[1, 2])  #1개의 인덱스만 쓰면 1개 행 모두가 선택됨. \n",
    "                         #2개의 인덱스를 사용하여 열, 행 모두 지정해 주어야 1개의 요소만 선택됨."
   ]
  },
  {
   "cell_type": "code",
   "execution_count": 13,
   "metadata": {},
   "outputs": [
    {
     "name": "stdout",
     "output_type": "stream",
     "text": [
      "[0 1 2 3 4 5 6 7 8 9]\n",
      "[0 1 2 3 4 9 6 7 8 9]\n",
      "[[ 0  1  2  3]\n",
      " [ 4  5  6  7]\n",
      " [ 8  9 10 11]]\n",
      "[[ 0  0  0  0]\n",
      " [ 4  5  6  7]\n",
      " [ 8  9 10 11]]\n",
      "[[ 0  0  0  0]\n",
      " [ 4  5 99  7]\n",
      " [ 8  9 10 11]]\n"
     ]
    }
   ],
   "source": [
    "#값의 변경도 마찬가지. 인덱스를 하나만 지정하면 행 전체를 바꿔버린다.\n",
    "print(a)\n",
    "a[5] = 9\n",
    "print(a)\n",
    "\n",
    "print(b)\n",
    "b[0] = 0\n",
    "print(b)\n",
    "\n",
    "b[1, 2] = 99\n",
    "print(b)"
   ]
  },
  {
   "cell_type": "code",
   "execution_count": 18,
   "metadata": {},
   "outputs": [
    {
     "name": "stdout",
     "output_type": "stream",
     "text": [
      "[0 1 2 3 4 5 6 7 8 9]\n",
      "[2 3 4]\n",
      "[5 6 7 8 9]\n",
      "[0 1 2 3 4 5 6 7 8 9]\n",
      "[[ 0  1  2  3]\n",
      " [ 4  5  6  7]\n",
      " [ 8  9 10 11]]\n",
      "[1 5]\n",
      "[[1 2]\n",
      " [5 6]]\n",
      "[ 8  9 10 11]\n",
      "[1 5 9]\n",
      "[[ 0  0  0  3]\n",
      " [ 4  0  0  7]\n",
      " [ 8  9 10 11]]\n"
     ]
    }
   ],
   "source": [
    "#인덱싱\n",
    "a = np.arange(10)\n",
    "print(a)\n",
    "\n",
    "print(a[2:5])  #a[2], a[3], a[4]\n",
    "print(a[5:])\n",
    "print(a[:])\n",
    "\n",
    "b = np.arange(12).reshape(3, 4)\n",
    "print(b)\n",
    "print(b[0:2, 1])\n",
    "print(b[0:2, 1:3])\n",
    "print(b[2, :])\n",
    "print(b[:, 1])\n",
    "b[0:2, 1:3] = 0\n",
    "print(b)"
   ]
  },
  {
   "cell_type": "code",
   "execution_count": 22,
   "metadata": {},
   "outputs": [
    {
     "name": "stdout",
     "output_type": "stream",
     "text": [
      "[[ 0 99 99  3]\n",
      " [ 4  0  0  7]\n",
      " [ 8  9 10 11]]\n",
      "\n",
      "[[99 99]\n",
      " [ 0  0]]\n",
      "\n",
      "[[ 0 99 99  3]\n",
      " [ 4  0  0  7]\n",
      " [ 8  9 10 11]]\n",
      "[[ 0 99 99  3]\n",
      " [ 4  0  0  7]\n",
      " [ 8  9 10 11]]\n",
      "[[ 7  7  7  7]\n",
      " [ 4  0  0  7]\n",
      " [ 8  9 10 11]]\n",
      "[[ 0 99 99  3]\n",
      " [ 4  0  0  7]\n",
      " [ 8  9 10 11]]\n"
     ]
    }
   ],
   "source": [
    "#slicing의 결과는 복제본이 아닌 원본이다. \n",
    "#전체 배열 중 일부를 다른 변수에 할당할 때, 그것은 별도의 배열이 아니다.\n",
    "#슬라이싱 해당 영역에 대한 참조일 뿐, 값의 변경은 원본에도 그대로 반영된다.\n",
    "print(b)\n",
    "bb = b[0:2, 1:3]\n",
    "print()\n",
    "\n",
    "print(bb)\n",
    "bb[0] = 99\n",
    "print()\n",
    "\n",
    "print(b)\n",
    "\n",
    "#복제본을 얻고싶다면 ndarray.copy()함수를 호출해야 함.\n",
    "k = b.copy()\n",
    "print(k)\n",
    "k[0] = 7\n",
    "print(k)\n",
    "print(b)"
   ]
  },
  {
   "cell_type": "markdown",
   "metadata": {},
   "source": [
    "#### 3-1-10. 팬시 인덱싱\n",
    " - 배열 인덱스에 다른 배열을 전달해서 원하는 요소를 선택하는 방법.\n",
    " - 전달하는 배열에 숫자가 있으면 해당 인덱스에 맞게 선택되고, Boolean값을 포함하면 True인 값을 갖는 요소만 선택됨."
   ]
  },
  {
   "cell_type": "code",
   "execution_count": 23,
   "metadata": {},
   "outputs": [
    {
     "name": "stdout",
     "output_type": "stream",
     "text": [
      "[0 1 2 3 4]\n",
      "[1 3]\n",
      "[0 2 4]\n"
     ]
    }
   ],
   "source": [
    "a = np.arange(5)\n",
    "print(a)\n",
    "print(a[[1, 3]])\n",
    "print(a[[True, False, True, False, True]])"
   ]
  },
  {
   "cell_type": "code",
   "execution_count": 25,
   "metadata": {},
   "outputs": [
    {
     "name": "stdout",
     "output_type": "stream",
     "text": [
      "[0 1 2 3 4 5 6 7 8 9]\n",
      "[False False False False False False  True  True  True  True]\n",
      "[6 7 8 9]\n",
      "[6 7 8 9]\n",
      "[0 1 2 3 4 5 1 1 1 1]\n"
     ]
    }
   ],
   "source": [
    "#Numpy 배열에 비교 연산 ==> 각 element가 조건을 만족하는지 알 수 있음.\n",
    "#boolean이 든 배열을 인덱스처럼 사용하면 True값 위치의 value들만 얻을 수 있다.\n",
    "a = np.arange(10)\n",
    "print(a)\n",
    "b = a >5\n",
    "print(b)\n",
    "print(a[b])\n",
    "print(a[a>5])\n",
    "a[a>5] = 1\n",
    "print(a)"
   ]
  },
  {
   "cell_type": "code",
   "execution_count": 26,
   "metadata": {},
   "outputs": [
    {
     "name": "stdout",
     "output_type": "stream",
     "text": [
      "[[ 0  1  2  3]\n",
      " [ 4  5  6  7]\n",
      " [ 8  9 10 11]]\n",
      "[[ 0  1  2  3]\n",
      " [ 8  9 10 11]]\n",
      "[ 2 11]\n"
     ]
    }
   ],
   "source": [
    "#위의 경우도 새로운 값을 지정하면 브로드캐스팅 연산으로 해당 요소들 모두의 값을 바꿀 수 있음.\n",
    "b = np.arange(12).reshape(3, 4)\n",
    "print(b)\n",
    "print(b[[0, 2]])\n",
    "print(b[[0, 2], [2, 3]])"
   ]
  },
  {
   "cell_type": "markdown",
   "metadata": {},
   "source": [
    "#### 3-1-11. 병합과 분리\n",
    " - Numpy 배열의 병합 방법:\n",
    "  * 1)단순 배열 이어붙이기로 크기를 키움.\n",
    "  * 2)새로운 차원을 만들어 서로서로 끼워넣기.\n",
    " - Numpy 배열의 축: shape 확인 시 (10, 20, 3)인 경우\n",
    "  * 3개의 축\n",
    "  * 0번 축은 10, 1번 축은 20, 2번 축은 3\n",
    " - 병합에 사용하는 합수\n",
    "  * numpy.hstack(arrays): arrays 배열을 수평으로 병합\n",
    "  * numpy.vstack(arrays): arrays 배열을 수직으로 병합\n",
    "  * numpy.concatenate(arrays, axis = 0): arrays 배열을 지정한 축 기준으로 병합\n",
    "  * numpy.stack(arrays, axis = 0): arrays 배열을 새로운 축으로 병합\n",
    "    * arrays: 병합 대상 배열(튜플)\n",
    "    * axis: 작업할 대상 축 번호 \n",
    "    \n",
    " - 병합 함수는 이미지 작업을 완료한 후 작업 전/후 이미지를 병합해서 나란히 출력할 때 사용."
   ]
  },
  {
   "cell_type": "code",
   "execution_count": 31,
   "metadata": {},
   "outputs": [
    {
     "name": "stdout",
     "output_type": "stream",
     "text": [
      "[[0 1]\n",
      " [2 3]]\n",
      "[[10 11]\n",
      " [12 13]]\n",
      "[[ 0  1]\n",
      " [ 2  3]\n",
      " [10 11]\n",
      " [12 13]]\n",
      "[[ 0  1 10 11]\n",
      " [ 2  3 12 13]]\n",
      "[[ 0  1]\n",
      " [ 2  3]\n",
      " [10 11]\n",
      " [12 13]]\n",
      "[[ 0  1 10 11]\n",
      " [ 2  3 12 13]]\n"
     ]
    }
   ],
   "source": [
    "a = np.arange(4).reshape(2, 2)\n",
    "print(a)\n",
    "\n",
    "b = np.arange(10, 14).reshape(2, 2)\n",
    "print(b)\n",
    "\n",
    "print(np.vstack((a, b)))\n",
    "print(np.hstack((a, b)))\n",
    "print(np.concatenate((a, b), 0))   #수직. axis = 0은 열 방향으로.\n",
    "print(np.concatenate((a, b), 1))   #수평. axis = 1은 행 방향으로."
   ]
  },
  {
   "cell_type": "code",
   "execution_count": 36,
   "metadata": {},
   "outputs": [
    {
     "name": "stdout",
     "output_type": "stream",
     "text": [
      "[[ 0  1  2]\n",
      " [ 3  4  5]\n",
      " [ 6  7  8]\n",
      " [ 9 10 11]]\n",
      "[[ 10  20  30]\n",
      " [ 40  50  60]\n",
      " [ 70  80  90]\n",
      " [100 110 120]]\n",
      "(2, 4, 3)\n",
      "[[[  0   1   2]\n",
      "  [  3   4   5]\n",
      "  [  6   7   8]\n",
      "  [  9  10  11]]\n",
      "\n",
      " [[ 10  20  30]\n",
      "  [ 40  50  60]\n",
      "  [ 70  80  90]\n",
      "  [100 110 120]]]\n"
     ]
    }
   ],
   "source": [
    "a = np.arange(12).reshape(4, 3)\n",
    "b = np.arange(10, 130, 10).reshape(4, 3)\n",
    "print(a)\n",
    "print(b)\n",
    "\n",
    "c = np.stack((a, b), 0)       #기존 (4, 3)에서 새로운 축이 1번째에 추가됨 => (2, 4, 3)\n",
    "print(c.shape)\n",
    "print(c)"
   ]
  },
  {
   "cell_type": "code",
   "execution_count": 38,
   "metadata": {},
   "outputs": [
    {
     "name": "stdout",
     "output_type": "stream",
     "text": [
      "(4, 2, 3)\n",
      "[[[  0   1   2]\n",
      "  [ 10  20  30]]\n",
      "\n",
      " [[  3   4   5]\n",
      "  [ 40  50  60]]\n",
      "\n",
      " [[  6   7   8]\n",
      "  [ 70  80  90]]\n",
      "\n",
      " [[  9  10  11]\n",
      "  [100 110 120]]]\n",
      "(4, 3, 2)\n",
      "[[[  0  10]\n",
      "  [  1  20]\n",
      "  [  2  30]]\n",
      "\n",
      " [[  3  40]\n",
      "  [  4  50]\n",
      "  [  5  60]]\n",
      "\n",
      " [[  6  70]\n",
      "  [  7  80]\n",
      "  [  8  90]]\n",
      "\n",
      " [[  9 100]\n",
      "  [ 10 110]\n",
      "  [ 11 120]]]\n",
      "(4, 3, 2)\n",
      "[[[  0  10]\n",
      "  [  1  20]\n",
      "  [  2  30]]\n",
      "\n",
      " [[  3  40]\n",
      "  [  4  50]\n",
      "  [  5  60]]\n",
      "\n",
      " [[  6  70]\n",
      "  [  7  80]\n",
      "  [  8  90]]\n",
      "\n",
      " [[  9 100]\n",
      "  [ 10 110]\n",
      "  [ 11 120]]]\n"
     ]
    }
   ],
   "source": [
    "d = np.stack((a, b), 1)     #기존 (4, 3)에서 새로운 축이 1번째에 추가됨 => (4, 2, 3)\n",
    "print(d.shape)\n",
    "print(d)\n",
    "\n",
    "e = np.stack((a, b), 2)     #기존 (4, 3)에서 새로운 축이 2번째에 추가됨 => (4, 3, 2)\n",
    "print(e.shape)\n",
    "print(e)\n",
    "\n",
    "ee = np.stack((a, b), -1)   #기존 (4, 3)에서 새로운 축이 마지막 축 번호(2)에 추가됨 => (4, 2, 3)\n",
    "print(ee.shape)\n",
    "print(e)"
   ]
  },
  {
   "cell_type": "markdown",
   "metadata": {},
   "source": [
    " - 배열을 분리할 때 쓰는 함수.\n",
    "  * numpy.vsplit(array, indice): array 배열을 수평으로 분리.\n",
    "  * numpy.hsplit(array, indice): array 배열을 수직으로 분리.    \n",
    "  * numpy.split(array, indice, axis = 0): array 배열을 axis 축으로 분리.\n",
    "    * array: 분리할 배열\n",
    "    * indice: 분리할 개수(정수) or 인덱스(1차원 배열 형태).\n",
    "    * axis: 기준 축 번호"
   ]
  },
  {
   "cell_type": "code",
   "execution_count": 42,
   "metadata": {},
   "outputs": [
    {
     "name": "stdout",
     "output_type": "stream",
     "text": [
      "[ 0  1  2  3  4  5  6  7  8  9 10 11]\n",
      "[array([0, 1, 2, 3]), array([4, 5, 6, 7]), array([ 8,  9, 10, 11])]\n",
      "[array([0, 1, 2]), array([3, 4, 5]), array([ 6,  7,  8,  9, 10, 11])]\n",
      "[array([0, 1, 2]), array([3, 4, 5]), array([6, 7, 8]), array([ 9, 10, 11])]\n",
      "[array([0, 1, 2, 3]), array([4, 5, 6, 7]), array([ 8,  9, 10, 11])]\n",
      "[array([0, 1, 2]), array([3, 4, 5]), array([6, 7, 8]), array([ 9, 10, 11])]\n"
     ]
    }
   ],
   "source": [
    "a = np.arange(12)              #a는 1차원 배열.\n",
    "print(a)\n",
    "print(np.hsplit(a, 3))         #배열을 3개로 쪼갠다.\n",
    "print(np.hsplit(a, [3, 6]))    #3과 6을 배열로 표시. 즉 [0:3], [3:6], [6:]의 세 덩이로 나눈다.\n",
    "print(np.hsplit(a, [3, 6, 9])) #3, 6, 9를 배열로 표시. [0:3], [3:6], [6:9], [9:]의 네 덩이로 나눈다.\n",
    "print(np.split(a, 3, 0))       #a는 1차원이므로 축 번호는 0 뿐이다. hsplit(a, 3)과 결과 동일.\n",
    "print(np.split(a, [3, 6, 9], 0)) #hsplit(a, [3, 6, 9])과 결과 동일."
   ]
  },
  {
   "cell_type": "code",
   "execution_count": 47,
   "metadata": {},
   "outputs": [
    {
     "name": "stdout",
     "output_type": "stream",
     "text": [
      "[[ 0  1  2]\n",
      " [ 3  4  5]\n",
      " [ 6  7  8]\n",
      " [ 9 10 11]]\n",
      "[array([[0, 1, 2],\n",
      "       [3, 4, 5]]), array([[ 6,  7,  8],\n",
      "       [ 9, 10, 11]])]\n",
      "[array([[0, 1, 2],\n",
      "       [3, 4, 5]]), array([[ 6,  7,  8],\n",
      "       [ 9, 10, 11]])]\n",
      "[array([[0],\n",
      "       [3],\n",
      "       [6],\n",
      "       [9]]), array([[ 1,  2],\n",
      "       [ 4,  5],\n",
      "       [ 7,  8],\n",
      "       [10, 11]])]\n",
      "[array([[0],\n",
      "       [3],\n",
      "       [6],\n",
      "       [9]]), array([[ 1,  2],\n",
      "       [ 4,  5],\n",
      "       [ 7,  8],\n",
      "       [10, 11]])]\n"
     ]
    }
   ],
   "source": [
    "b = np.arange(12).reshape(4, 3)   #b는 2차원 배열.\n",
    "print(b)\n",
    "print(np.vsplit(b, 2))            #4행짜리 배열을 2개로 쪼갠다.\n",
    "print(np.split(b, 2, 0))          #vsplit(b, 2)과 결과 같음.\n",
    "print(np.hsplit(b, [1]))          #3열짜리이므로 2로 나눌 순 없다. #[1] ==> [1:] #indice에 1을 주면 b와 똑같은 결과를 반환함.\n",
    "print(np.split(b, [1], 1))"
   ]
  },
  {
   "cell_type": "markdown",
   "metadata": {},
   "source": [
    "#### 3-1-12. 검색\n",
    " - 배열 안에서 관심 있는 데이터만을 찾거나 찾아서 바꾸는 일이 자주 필요함.\n",
    " - ret = numpy.where(condition [, t, f]): 조건에 맞는 요소 찾기\n",
    " - condition: 검색에 사용할 조건식\n",
    " - t, f: 조건에 따라 지정할 값 or 배열. 배열의 경우 조건에 사용한 배열과 같은 shape.\n",
    "   * t: 조건에 맞는 값에 지정할 값, 배열\n",
    "   * f: 조건에 틀린 값에 지정할 값, 배열\n",
    " - numpy.nonzero(array): array에서 요소 중에 0이 아닌 요소의 인덱스들을 반환(튜플)\n",
    " - numpy.all(array, [, axis]): array의 모든 요소가 True인지 검색\n",
    "   * array: 검색 대상 배열\n",
    "   * axis: 검색할 기준 축, 생략하면 모든 요소 검색, 지정하면 축 개수별로 결과 반환\n",
    " - numpy.any(array [, axis]): array의 어느 요소이든 True가 있는지 검색."
   ]
  },
  {
   "cell_type": "code",
   "execution_count": 48,
   "metadata": {},
   "outputs": [
    {
     "name": "stdout",
     "output_type": "stream",
     "text": [
      "[10 11 12 13 14 15 16 17 18 19]\n",
      "(array([6, 7, 8, 9], dtype=int64),)\n",
      "[0 0 0 0 0 0 1 1 1 1]\n",
      "[10 11 12 13 14 15 16 17 18 19]\n"
     ]
    }
   ],
   "source": [
    "#1차원 배열에서의 검색\n",
    "a = np.arange(10, 20)\n",
    "print(a)\n",
    "print(np.where(a>15))         #조건에 맞는 인덱스를 배열로 반환.\n",
    "print(np.where(a>15, 1, 0))   #기존 배열은 변경 X.\n",
    "print(a)"
   ]
  },
  {
   "cell_type": "code",
   "execution_count": 49,
   "metadata": {},
   "outputs": [
    {
     "name": "stdout",
     "output_type": "stream",
     "text": [
      "[10 11 12 13 14 15 16 17 18 19]\n",
      "[10 11 12 13 14 15 99 99 99 99]\n",
      "[ 0  0  0  0  0  0 16 17 18 19]\n",
      "[10 11 12 13 14 15 16 17 18 19]\n"
     ]
    }
   ],
   "source": [
    "print(a)\n",
    "print(np.where(a>15, 99, a)) #기존 배열은 변경 X.\n",
    "print(np.where(a>15, a, 0))  #기존 배열은 변경 X.\n",
    "print(a)"
   ]
  },
  {
   "cell_type": "code",
   "execution_count": 52,
   "metadata": {},
   "outputs": [
    {
     "name": "stdout",
     "output_type": "stream",
     "text": [
      "[[ 0  1  2  3]\n",
      " [ 4  5  6  7]\n",
      " [ 8  9 10 11]]\n",
      "(array([1, 2, 2, 2, 2], dtype=int64), array([3, 0, 1, 2, 3], dtype=int64))\n",
      "[[1 3]\n",
      " [2 0]\n",
      " [2 1]\n",
      " [2 2]\n",
      " [2 3]]\n"
     ]
    }
   ],
   "source": [
    "#다차원 배열에서의 검색\n",
    "b = np.arange(12).reshape(3, 4)\n",
    "print(b)\n",
    "\n",
    "coords = np.where(b>6)\n",
    "print(coords)          #수직으로 나눠진 1차원 배열 형태 2개를 반환. 행 번호와 열 번호가 따로 담긴 배열들.\n",
    "print(np.stack((coords[0], coords[1]), -1))  #새로운 축(2차원)으로 배열 병합"
   ]
  },
  {
   "cell_type": "code",
   "execution_count": 57,
   "metadata": {},
   "outputs": [
    {
     "name": "stdout",
     "output_type": "stream",
     "text": [
      "(array([1, 2, 4, 5], dtype=int64),)\n",
      "[[0 1 2]\n",
      " [1 2 0]\n",
      " [2 0 1]]\n",
      "(array([0, 0, 1, 1, 2, 2], dtype=int64), array([1, 2, 0, 1, 0, 2], dtype=int64))\n",
      "[[0 1]\n",
      " [0 2]\n",
      " [1 0]\n",
      " [1 1]\n",
      " [2 0]\n",
      " [2 2]]\n"
     ]
    }
   ],
   "source": [
    "#배열 중 0이 아닌 요소 찾기. \n",
    "#np.nonzero() ==> 0이 아닌 값이 있는 인덱스 반환.\n",
    "z = np.array([0,1,2,0,1,2])\n",
    "print(np.nonzero(z))\n",
    "\n",
    "zz = np.array([[0,1,2], [1,2,0], [2,0,1]])\n",
    "print(zz)\n",
    "\n",
    "coords = np.nonzero(zz)\n",
    "print(coords)\n",
    "\n",
    "print(np.stack((coords[0], coords[1]), -1))"
   ]
  },
  {
   "cell_type": "code",
   "execution_count": 60,
   "metadata": {},
   "outputs": [
    {
     "name": "stdout",
     "output_type": "stream",
     "text": [
      "[10 11 12 13 14 15 16 17 18 19]\n",
      "(array([6, 7, 8, 9], dtype=int64),)\n",
      "(array([6, 7, 8, 9], dtype=int64),)\n",
      "\n",
      "[[ 0  1  2  3]\n",
      " [ 4  5  6  7]\n",
      " [ 8  9 10 11]]\n",
      "(array([1, 2, 2, 2, 2], dtype=int64), array([3, 0, 1, 2, 3], dtype=int64))\n"
     ]
    }
   ],
   "source": [
    "#nonzero()함수는 Trur, False의 boolean값에 대해서는 False를0으로 간주함.\n",
    "#이를 이용해, numpy.where()함수처럼 조건을 만족하는 요소의 인덱스를 찾을 수도 있음.\n",
    "print(a)\n",
    "print(np.nonzero(a>15))\n",
    "print(np.where(a>15))\n",
    "print()\n",
    "print(b)\n",
    "print(np.nonzero(b>6))"
   ]
  },
  {
   "cell_type": "code",
   "execution_count": 61,
   "metadata": {},
   "outputs": [
    {
     "name": "stdout",
     "output_type": "stream",
     "text": [
      "True\n",
      "[ True False  True]\n",
      "False\n"
     ]
    }
   ],
   "source": [
    "#all(): 배열의 모든 요소가 참 또는 거짓인지 확인.\n",
    "t = np.array([True, True, True])\n",
    "print(np.all(t))\n",
    "t[1] = False\n",
    "print(t)\n",
    "print(np.all(t))   #한 원소라도 거짓이면 False"
   ]
  },
  {
   "cell_type": "code",
   "execution_count": 62,
   "metadata": {},
   "outputs": [
    {
     "name": "stdout",
     "output_type": "stream",
     "text": [
      "[[ True  True]\n",
      " [False  True]\n",
      " [ True  True]]\n",
      "[False  True]\n",
      "[ True False  True]\n"
     ]
    }
   ],
   "source": [
    "tt = np.array([[True, True], [False, True], [True, True]])\n",
    "print(tt)\n",
    "print(np.all(tt, 0))   #축 인자(0, 1)를 지정하면 해당 축을 기준으로 True를 만족하는지 반환함.\n",
    "print(np.all(tt, 1))"
   ]
  },
  {
   "cell_type": "code",
   "execution_count": 65,
   "metadata": {},
   "outputs": [
    {
     "name": "stdout",
     "output_type": "stream",
     "text": [
      "[0 1 2 3 4 5 6 7 8 9]\n",
      "[0 1 2 3 4 5 6 7 8 9]\n",
      "[ True  True  True  True  True  True  True  True  True  True]\n",
      "True\n",
      "[0 1 2 3 4 5 6 7 8 9]\n",
      "[ 0  1  2  3  4 -1  6  7  8  9]\n",
      "False\n",
      "(array([0, 1, 2, 3, 4, 6, 7, 8, 9], dtype=int64),)\n",
      "(array([5], dtype=int64),)\n"
     ]
    }
   ],
   "source": [
    "#numpy.all()과 numpy.where()를 이용하여 2개의 배열이 서로 같은지 다른지, 어느 항목이 다른지 찾을 수 있음.\n",
    "\n",
    "a = np.arange(10)\n",
    "b = np.arange(10)\n",
    "print(a)\n",
    "print(b)\n",
    "print(a==b)\n",
    "print(np.all(a==b))\n",
    "\n",
    "b[5] = -1\n",
    "print(a)\n",
    "print(b)\n",
    "\n",
    "print(np.all(a==b))      #서로 같은 값으로 채워졌는지 확인.  #배열에 들어있는 값 뿐만 아니라 순서까지 같아야 True.\n",
    "print(np.where(a==b))    #인덱스 반환\n",
    "print(np.where(a!=b))    #인덱스 반환"
   ]
  },
  {
   "cell_type": "markdown",
   "metadata": {},
   "source": [
    "#### 3-1-13. 기초통계함수\n",
    " - numpy.sum(array, axis): 배열의 합계 계산\n",
    " - numpy.mean(array, axis): 배열의 평균 계산\n",
    " - numpy.amin(array, axis): 배열의 최소값 계산\n",
    " - numpy.min(array, axis): numpy.amin과 동일\n",
    " - numpy.amax(array, axis): 배열의 최대값 계산\n",
    " - numpy.max(array, axis): numpy.amax과 동일\n",
    "  * array: 계산 대상의 배열\n",
    "  * axis: 계산 기준 축, 생략하면 모든 요소를 대상으로 함."
   ]
  },
  {
   "cell_type": "code",
   "execution_count": 69,
   "metadata": {},
   "outputs": [
    {
     "name": "stdout",
     "output_type": "stream",
     "text": [
      "[[ 0  1  2  3]\n",
      " [ 4  5  6  7]\n",
      " [ 8  9 10 11]]\n",
      "66\n",
      "[12 15 18 21]\n",
      "[ 6 22 38]\n",
      "True\n",
      "True\n"
     ]
    }
   ],
   "source": [
    "a = np.arange(12).reshape(3, 4)\n",
    "print(a)\n",
    "print(np.sum(a))\n",
    "print(np.sum(a, 0))\n",
    "print(np.sum(a, 1))\n",
    "\n",
    "print(np.amin is np.min)\n",
    "print(np.amax is np.max)"
   ]
  },
  {
   "cell_type": "markdown",
   "metadata": {},
   "source": [
    "#### 3-1-14. 이미지 생성"
   ]
  },
  {
   "cell_type": "code",
   "execution_count": 71,
   "metadata": {},
   "outputs": [],
   "source": [
    "#practice. Numpy 배열로 체크무늬 그레이 스케일 이미지 생성\n",
    "import cv2\n",
    "import numpy as np\n",
    "                                               #OpenCV에서 이미지를 표현하기 위한 Numpy 배열은 반드시 dtype = uint8.\n",
    "                                               #0은 검은색, 255는 흰색\n",
    "img = np.zeros((120, 120), dtype = np.uint8)   #120 x 120 2차원 배열 생성, 검은색 흑백 이미지\n",
    "img[25:35, :] = 45                             #25 ~ 35행 모든 열에 45 할당\n",
    "img[55:65, :] = 115                            #55 ~ 65행 모든 열에 115 할당\n",
    "img[85:95, :] = 160                            #85 ~ 95행 모든 열에 160 할당\n",
    "img[:, 35:45] = 205                            #35 ~ 45열 모든 행에 205 할당\n",
    "img[:, 75:85] = 255                            #75 ~ 85열 모든 행에 255 할당\n",
    "cv2.imshow('Gray', img)                        \n",
    "cv2.waitKey(0)\n",
    "cv2.destroyAllWindows()"
   ]
  },
  {
   "cell_type": "code",
   "execution_count": 72,
   "metadata": {},
   "outputs": [],
   "source": [
    "#practice. Numpy 배열로 체크무늬 BGR 스케일 이미지 생성\n",
    "import cv2\n",
    "import numpy as np\n",
    "\n",
    "img = np.zeros((120, 120, 3), dtype = np.uint8)  #120 x 120 3채널의 3차원 배열 생성, 컬러 이미지\n",
    "img[25:35, :] = [255, 0, 0]                      #25 ~ 35행 모든 열에 [255, 0, 0] 할당  #Blue\n",
    "img[55:65, :] = [0, 255, 0]                      #55 ~ 65행 모든 열에 [0, 255, 0] 할당  #Green\n",
    "img[85:95, :] = [0, 0, 255]                      #85 ~ 95행 모든 열에 [0, 0, 255] 할당  #Red\n",
    "img[:, 35:45] = [255, 255, 0]                    #35 ~ 45열 모든 행에 [255, 255, 0] 할당  #Sky\n",
    "img[:, 75:85] = [255, 0, 255]                    #75 ~ 85열 모든 행에 [255, 0, 255] 할당  #Pink\n",
    "\n",
    "cv2.imshow('Gray', img)                        \n",
    "cv2.waitKey(0)\n",
    "cv2.destroyAllWindows()"
   ]
  }
 ],
 "metadata": {
  "kernelspec": {
   "display_name": "Python 3",
   "language": "python",
   "name": "python3"
  },
  "language_info": {
   "codemirror_mode": {
    "name": "ipython",
    "version": 3
   },
   "file_extension": ".py",
   "mimetype": "text/x-python",
   "name": "python",
   "nbconvert_exporter": "python",
   "pygments_lexer": "ipython3",
   "version": "3.7.3"
  }
 },
 "nbformat": 4,
 "nbformat_minor": 2
}
