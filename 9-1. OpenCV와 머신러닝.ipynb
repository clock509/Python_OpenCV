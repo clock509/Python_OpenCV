{
 "cells": [
  {
   "cell_type": "markdown",
   "metadata": {},
   "source": [
    "#### 9-1-1. 머신러닝\n",
    " - ML: 인공지능(Artificial Intelligence)의 한 분야.\n",
    " - ML이란 어떤 알고리즘으로 데이터를 분석해서, 그것을 바탕으로 새로운 데이터를 판단 or 예측하는 것.\n",
    " - 데이터 분석을 위해서는 특징이 잘 묘사된 숫자들을 추출해야 함(= Variables or Vector or Feature)\n",
    "    * ex. '영상'에서의 특징 벡터: 특징 디스크립터.\n",
    " - 추출된 특징 벡터를 어떤 알고리즘으로 분석하느냐에 따라 회귀, 분류, 군집화라는 형태의 결과를 얻을 수 있음.\n",
    " - 머신러닝의 종류\n",
    "       * 지도학습: 분석 데이터를 제공할 때 데이터의 분류 항목(=정답)을 함께 제공.\n",
    "         * 회귀(regression): 몸무게와 키 데이터를 분석한 다음, 어떤 한사람의 몸무게만 가지고 키를 예측.\n",
    "         * 분류(classify): 몸무게, 키, 성별 데이터를 분석한 다음, 한 사람의 몸무게와 키만 가지고 그 사람의 성별을 예측.\n",
    "       * 비지도학습: 분석 데이터만 제공하고 기계가 스스로 나누게끔 함.\n",
    "         * 군집화(clustering): 몸무게와 키에 따라 운동 선수의 체급을 나눔.\n",
    "\n",
    " - Q. 몸무게로 키를 예측하려고 할 때, 이미 여러 사람들의 몸무게에 따른 키 정보를 학습했다면 ==> 지도학습\n",
    " - Q. 몸무게와 키로 성별을 예측하려고 할 때, 여러 사람들의 몸무게 및 키, 그에 따른 성별을 학습했다면 ==> 지도학습.\n",
    " - Q. 몸무게, 키만 학습하고 체급이 헤비급인지 라이트급인지 알려주지 않고선 체급 적절히 나누라고 한다면 ==> 비지도학습.\n"
   ]
  },
  {
   "cell_type": "markdown",
   "metadata": {},
   "source": [
    "#### 9-1-2. OpenCV와 머신러닝\n",
    " - OpenCV에서도 최근 머신러닝의 발전과 사용이 활발해짐에 따라, 'ml'이라는 별도의 모듈을 구성했음.\n",
    " - ml의 상위레벨 함수에서는 알고리즘의 원리를 신경 쓰지 않고도 객체를 검출할 수 있음.\n",
    " - 단, 아주 오래 전부터 사용되어오던 Legacy algorithm들은 기존의 호환성을 위해 ml 패키지에 포함되지 않음.\n",
    "    * ex. cv2.kmeans(), cv2.Mahalanobis()\n",
    " - 그 외의 머신러닝 알고리즘은 ml 모듈로 따로 구성해서 StatModel 추상 클래스를 상속받아서 구현.\n",
    "    * ex. cv2.ml.StatModel\n",
    "\n",
    "          - cv2.ml.StatModel\n",
    "            * retval = train(samples, layout, responses): 훈련\n",
    "            * retval, results = predict(samples[, results, flags]): 예측\n",
    "                ** samples: 학습 데이터\n",
    "                ** layout: 학습 데이터의 형태 지정 플래그\n",
    "                    *** cv2.ml.ROW_SAMPLE: 행 데이터\n",
    "                    *** cv2.ml.COL_SAMPLE: 열 데이터\n",
    "                ** responses: 샘플 데이터의 레이블\n",
    "            * save(filename): 훈련된 모델 객체를 파일로 저장\n",
    "                ** filename: 저장할 파일 이름\n",
    "            * obj = cv2.ml.StatModel.load(filename): 훈련해서 저장한 모델 객체 읽기\n",
    "                * filename: 파일 이름\n",
    "                * obj: 저장했던 객체\n",
    "                \n",
    " - 이 인터페이스를 상속한 모든 객체에는 train(), predict()함수가 있음.\n",
    " - save(), load() 함수를 통해 한 번 훈련한 객체를 저장했다가 다시 읽어올 수도 있음."
   ]
  },
  {
   "cell_type": "markdown",
   "metadata": {},
   "source": [
    " - StatModel을 상속받아 구현한 알고리즘 클래스(OpenCV 3.4.1 기준)\n",
    "\n",
    "        - 회귀\n",
    "            * cv2.ml.LogisticRegression\n",
    "        - 베이즈 분류기\n",
    "            * cv2.ml.NormalBayesClassifier\n",
    "        - 트리\n",
    "            * cv2.ml.DTrees\n",
    "            * cv2.ml.Boost\n",
    "            * cv2.ml.RTrees\n",
    "        - 기대값 최대화\n",
    "            * cv2.ml.EM\n",
    "        - 최근접 이웃\n",
    "            * cv2.ml.KNearest\n",
    "        - 서포트 벡터 머신\n",
    "            * cv2.ml.SVM\n",
    "        - 인공신경망\n",
    "            * cv2.ml.ANN_MLP\n",
    "            \n",
    " - 객체 검출기: 학습 알고리즘을 몰라도 응용프로그램을 사용하듯이 객체를 검출할 수 있는 상위 레벨 API\n",
    "     * cv2.CascadeClassifier\n",
    "     * cv2.dpm_DPMDetector"
   ]
  }
 ],
 "metadata": {
  "kernelspec": {
   "display_name": "Python 3",
   "language": "python",
   "name": "python3"
  },
  "language_info": {
   "codemirror_mode": {
    "name": "ipython",
    "version": 3
   },
   "file_extension": ".py",
   "mimetype": "text/x-python",
   "name": "python",
   "nbconvert_exporter": "python",
   "pygments_lexer": "ipython3",
   "version": "3.7.3"
  }
 },
 "nbformat": 4,
 "nbformat_minor": 2
}
